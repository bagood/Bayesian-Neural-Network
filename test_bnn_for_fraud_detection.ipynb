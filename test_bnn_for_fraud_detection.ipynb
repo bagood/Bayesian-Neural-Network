{
 "cells": [
  {
   "cell_type": "code",
   "execution_count": 1,
   "id": "70856a33-e296-49a1-a0e5-c8f9b8264c61",
   "metadata": {},
   "outputs": [],
   "source": [
    "from Bayesian_Neural_Network import bayesian_neural_network\n",
    "from BNN_Learning_Rate_Tuning import bnn_learning_rate_tuning\n",
    "\n",
    "import numpy as np\n",
    "import pandas as pd\n",
    "import matplotlib.pyplot as plt\n",
    "\n",
    "np.random.seed(10120024)"
   ]
  },
  {
   "cell_type": "markdown",
   "id": "ba2943b2-db2b-44cd-9a2f-88a29b09e4fe",
   "metadata": {},
   "source": [
    "# Data Preparation"
   ]
  },
  {
   "cell_type": "code",
   "execution_count": 2,
   "id": "bfc0f76e-3857-4674-ab4e-1328bff7d7b7",
   "metadata": {},
   "outputs": [],
   "source": [
    "df = pd.read_csv('creditcard.csv')"
   ]
  },
  {
   "cell_type": "code",
   "execution_count": 3,
   "id": "d3b0366a-8017-403f-930c-bc4a4f3a02d1",
   "metadata": {},
   "outputs": [
    {
     "data": {
      "text/html": [
       "<div>\n",
       "<style scoped>\n",
       "    .dataframe tbody tr th:only-of-type {\n",
       "        vertical-align: middle;\n",
       "    }\n",
       "\n",
       "    .dataframe tbody tr th {\n",
       "        vertical-align: top;\n",
       "    }\n",
       "\n",
       "    .dataframe thead th {\n",
       "        text-align: right;\n",
       "    }\n",
       "</style>\n",
       "<table border=\"1\" class=\"dataframe\">\n",
       "  <thead>\n",
       "    <tr style=\"text-align: right;\">\n",
       "      <th></th>\n",
       "      <th>Time</th>\n",
       "      <th>V1</th>\n",
       "      <th>V2</th>\n",
       "      <th>V3</th>\n",
       "      <th>V4</th>\n",
       "      <th>V5</th>\n",
       "      <th>V6</th>\n",
       "      <th>V7</th>\n",
       "      <th>V8</th>\n",
       "      <th>V9</th>\n",
       "      <th>...</th>\n",
       "      <th>V21</th>\n",
       "      <th>V22</th>\n",
       "      <th>V23</th>\n",
       "      <th>V24</th>\n",
       "      <th>V25</th>\n",
       "      <th>V26</th>\n",
       "      <th>V27</th>\n",
       "      <th>V28</th>\n",
       "      <th>Amount</th>\n",
       "      <th>Class</th>\n",
       "    </tr>\n",
       "  </thead>\n",
       "  <tbody>\n",
       "    <tr>\n",
       "      <th>0</th>\n",
       "      <td>0.0</td>\n",
       "      <td>-1.359807</td>\n",
       "      <td>-0.072781</td>\n",
       "      <td>2.536347</td>\n",
       "      <td>1.378155</td>\n",
       "      <td>-0.338321</td>\n",
       "      <td>0.462388</td>\n",
       "      <td>0.239599</td>\n",
       "      <td>0.098698</td>\n",
       "      <td>0.363787</td>\n",
       "      <td>...</td>\n",
       "      <td>-0.018307</td>\n",
       "      <td>0.277838</td>\n",
       "      <td>-0.110474</td>\n",
       "      <td>0.066928</td>\n",
       "      <td>0.128539</td>\n",
       "      <td>-0.189115</td>\n",
       "      <td>0.133558</td>\n",
       "      <td>-0.021053</td>\n",
       "      <td>149.62</td>\n",
       "      <td>0</td>\n",
       "    </tr>\n",
       "    <tr>\n",
       "      <th>1</th>\n",
       "      <td>0.0</td>\n",
       "      <td>1.191857</td>\n",
       "      <td>0.266151</td>\n",
       "      <td>0.166480</td>\n",
       "      <td>0.448154</td>\n",
       "      <td>0.060018</td>\n",
       "      <td>-0.082361</td>\n",
       "      <td>-0.078803</td>\n",
       "      <td>0.085102</td>\n",
       "      <td>-0.255425</td>\n",
       "      <td>...</td>\n",
       "      <td>-0.225775</td>\n",
       "      <td>-0.638672</td>\n",
       "      <td>0.101288</td>\n",
       "      <td>-0.339846</td>\n",
       "      <td>0.167170</td>\n",
       "      <td>0.125895</td>\n",
       "      <td>-0.008983</td>\n",
       "      <td>0.014724</td>\n",
       "      <td>2.69</td>\n",
       "      <td>0</td>\n",
       "    </tr>\n",
       "    <tr>\n",
       "      <th>2</th>\n",
       "      <td>1.0</td>\n",
       "      <td>-1.358354</td>\n",
       "      <td>-1.340163</td>\n",
       "      <td>1.773209</td>\n",
       "      <td>0.379780</td>\n",
       "      <td>-0.503198</td>\n",
       "      <td>1.800499</td>\n",
       "      <td>0.791461</td>\n",
       "      <td>0.247676</td>\n",
       "      <td>-1.514654</td>\n",
       "      <td>...</td>\n",
       "      <td>0.247998</td>\n",
       "      <td>0.771679</td>\n",
       "      <td>0.909412</td>\n",
       "      <td>-0.689281</td>\n",
       "      <td>-0.327642</td>\n",
       "      <td>-0.139097</td>\n",
       "      <td>-0.055353</td>\n",
       "      <td>-0.059752</td>\n",
       "      <td>378.66</td>\n",
       "      <td>0</td>\n",
       "    </tr>\n",
       "    <tr>\n",
       "      <th>3</th>\n",
       "      <td>1.0</td>\n",
       "      <td>-0.966272</td>\n",
       "      <td>-0.185226</td>\n",
       "      <td>1.792993</td>\n",
       "      <td>-0.863291</td>\n",
       "      <td>-0.010309</td>\n",
       "      <td>1.247203</td>\n",
       "      <td>0.237609</td>\n",
       "      <td>0.377436</td>\n",
       "      <td>-1.387024</td>\n",
       "      <td>...</td>\n",
       "      <td>-0.108300</td>\n",
       "      <td>0.005274</td>\n",
       "      <td>-0.190321</td>\n",
       "      <td>-1.175575</td>\n",
       "      <td>0.647376</td>\n",
       "      <td>-0.221929</td>\n",
       "      <td>0.062723</td>\n",
       "      <td>0.061458</td>\n",
       "      <td>123.50</td>\n",
       "      <td>0</td>\n",
       "    </tr>\n",
       "    <tr>\n",
       "      <th>4</th>\n",
       "      <td>2.0</td>\n",
       "      <td>-1.158233</td>\n",
       "      <td>0.877737</td>\n",
       "      <td>1.548718</td>\n",
       "      <td>0.403034</td>\n",
       "      <td>-0.407193</td>\n",
       "      <td>0.095921</td>\n",
       "      <td>0.592941</td>\n",
       "      <td>-0.270533</td>\n",
       "      <td>0.817739</td>\n",
       "      <td>...</td>\n",
       "      <td>-0.009431</td>\n",
       "      <td>0.798278</td>\n",
       "      <td>-0.137458</td>\n",
       "      <td>0.141267</td>\n",
       "      <td>-0.206010</td>\n",
       "      <td>0.502292</td>\n",
       "      <td>0.219422</td>\n",
       "      <td>0.215153</td>\n",
       "      <td>69.99</td>\n",
       "      <td>0</td>\n",
       "    </tr>\n",
       "  </tbody>\n",
       "</table>\n",
       "<p>5 rows × 31 columns</p>\n",
       "</div>"
      ],
      "text/plain": [
       "   Time        V1        V2        V3        V4        V5        V6        V7  \\\n",
       "0   0.0 -1.359807 -0.072781  2.536347  1.378155 -0.338321  0.462388  0.239599   \n",
       "1   0.0  1.191857  0.266151  0.166480  0.448154  0.060018 -0.082361 -0.078803   \n",
       "2   1.0 -1.358354 -1.340163  1.773209  0.379780 -0.503198  1.800499  0.791461   \n",
       "3   1.0 -0.966272 -0.185226  1.792993 -0.863291 -0.010309  1.247203  0.237609   \n",
       "4   2.0 -1.158233  0.877737  1.548718  0.403034 -0.407193  0.095921  0.592941   \n",
       "\n",
       "         V8        V9  ...       V21       V22       V23       V24       V25  \\\n",
       "0  0.098698  0.363787  ... -0.018307  0.277838 -0.110474  0.066928  0.128539   \n",
       "1  0.085102 -0.255425  ... -0.225775 -0.638672  0.101288 -0.339846  0.167170   \n",
       "2  0.247676 -1.514654  ...  0.247998  0.771679  0.909412 -0.689281 -0.327642   \n",
       "3  0.377436 -1.387024  ... -0.108300  0.005274 -0.190321 -1.175575  0.647376   \n",
       "4 -0.270533  0.817739  ... -0.009431  0.798278 -0.137458  0.141267 -0.206010   \n",
       "\n",
       "        V26       V27       V28  Amount  Class  \n",
       "0 -0.189115  0.133558 -0.021053  149.62      0  \n",
       "1  0.125895 -0.008983  0.014724    2.69      0  \n",
       "2 -0.139097 -0.055353 -0.059752  378.66      0  \n",
       "3 -0.221929  0.062723  0.061458  123.50      0  \n",
       "4  0.502292  0.219422  0.215153   69.99      0  \n",
       "\n",
       "[5 rows x 31 columns]"
      ]
     },
     "execution_count": 3,
     "metadata": {},
     "output_type": "execute_result"
    }
   ],
   "source": [
    "df.head()"
   ]
  },
  {
   "cell_type": "code",
   "execution_count": 4,
   "id": "c1f8f490-f267-40cc-9426-2dda3dca6b9d",
   "metadata": {},
   "outputs": [],
   "source": [
    "feature_columns = df.columns[1:-2]\n",
    "target_columns = df.columns[-1]"
   ]
  },
  {
   "cell_type": "markdown",
   "id": "a682ee5d-0cbc-41cf-bca0-f8e92e5c0a86",
   "metadata": {},
   "source": [
    "# Model Performance On 100 Samples of Non-Fraudulent Data"
   ]
  },
  {
   "cell_type": "code",
   "execution_count": 5,
   "id": "620238d4-2ad2-4a55-bc74-4bd8ab679a4c",
   "metadata": {},
   "outputs": [],
   "source": [
    "df_0 = df.loc[df['Class'] == 0, :].head(25)"
   ]
  },
  {
   "cell_type": "code",
   "execution_count": 6,
   "id": "5c1dc654-c06a-4906-9ea0-bad23cb085d4",
   "metadata": {},
   "outputs": [],
   "source": [
    "feature_data = df_0.loc[:, feature_columns].values.reshape(-1, 28, 1)\n",
    "target_data = df_0.loc[:, target_columns].values"
   ]
  },
  {
   "cell_type": "code",
   "execution_count": 7,
   "id": "d4f52471-59d1-4766-8337-69d09dacbc74",
   "metadata": {},
   "outputs": [],
   "source": [
    "input_layer = [28]\n",
    "hidden_layers = [64, 32, 16, 8, 4, 2]\n",
    "output_layer = [1]\n",
    "\n",
    "total_epochs = 10\n",
    "initial_lr = 1\n",
    "end_lr = 1e-4\n",
    "\n",
    "error_type = 'accuracy'\n",
    "learning_rate_decay_type = 'exponential'"
   ]
  },
  {
   "cell_type": "code",
   "execution_count": 8,
   "id": "9420c69f-4e34-4562-b2ef-af461458baf3",
   "metadata": {},
   "outputs": [],
   "source": [
    "bnn = bayesian_neural_network(input_layer, hidden_layers, output_layer, feature_data, target_data, error_type, initial_lr=initial_lr, end_lr=end_lr)\n",
    "bnn.standardize_dataset()\n",
    "bnn.generate_m()\n",
    "bnn.generate_v()"
   ]
  },
  {
   "cell_type": "code",
   "execution_count": 9,
   "id": "a5b28df7-463d-4c90-9979-4262b7051ad1",
   "metadata": {
    "scrolled": true
   },
   "outputs": [
    {
     "name": "stdout",
     "output_type": "stream",
     "text": [
      "------------------------------------------------------------------------------------------------------------------------------------------------------\n",
      "Epoch : 1 / 10 - Learning Rate : 0.001 - Succesfull Train Percentage : 0.0% - Time Passed : 0.12 Second\n",
      "Accuracy : 0.0% - Standard Deviation : 0.12313760890619584\n",
      "------------------------------------------------------------------------------------------------------------------------------------------------------\n",
      "Epoch : 2 / 10 - Learning Rate : 0.0005 - Succesfull Train Percentage : 0.0% - Time Passed : 0.12 Second\n",
      "Accuracy : 0.0% - Standard Deviation : 0.08980619588249084\n",
      "------------------------------------------------------------------------------------------------------------------------------------------------------\n",
      "Epoch : 3 / 10 - Learning Rate : 0.0003333333333333333 - Succesfull Train Percentage : 0.0% - Time Passed : 0.12 Second\n",
      "Accuracy : 0.0% - Standard Deviation : 0.062171900174194085\n",
      "------------------------------------------------------------------------------------------------------------------------------------------------------\n",
      "Epoch : 4 / 10 - Learning Rate : 0.00025 - Succesfull Train Percentage : 0.0% - Time Passed : 0.12 Second\n",
      "Accuracy : 0.0% - Standard Deviation : 0.07608316360521583\n",
      "------------------------------------------------------------------------------------------------------------------------------------------------------\n",
      "Epoch : 5 / 10 - Learning Rate : 0.0002 - Succesfull Train Percentage : 0.0% - Time Passed : 0.12 Second\n",
      "Accuracy : 0.0% - Standard Deviation : 0.0967871092904027\n",
      "------------------------------------------------------------------------------------------------------------------------------------------------------\n",
      "Epoch : 6 / 10 - Learning Rate : 0.00016666666666666666 - Succesfull Train Percentage : 0.0% - Time Passed : 0.12 Second\n",
      "Accuracy : 0.0% - Standard Deviation : 0.07623373476308799\n",
      "------------------------------------------------------------------------------------------------------------------------------------------------------\n",
      "Epoch : 7 / 10 - Learning Rate : 0.00014285714285714287 - Succesfull Train Percentage : 0.0% - Time Passed : 0.12 Second\n",
      "Accuracy : 0.0% - Standard Deviation : 0.09311846284465412\n",
      "------------------------------------------------------------------------------------------------------------------------------------------------------\n",
      "Epoch : 8 / 10 - Learning Rate : 0.000125 - Succesfull Train Percentage : 0.0% - Time Passed : 0.12 Second\n",
      "Accuracy : 0.0% - Standard Deviation : 0.09723289907953657\n",
      "------------------------------------------------------------------------------------------------------------------------------------------------------\n",
      "Epoch : 9 / 10 - Learning Rate : 0.00011111111111111112 - Succesfull Train Percentage : 0.0% - Time Passed : 0.12 Second\n",
      "Accuracy : 0.0% - Standard Deviation : 0.12042087218315263\n",
      "------------------------------------------------------------------------------------------------------------------------------------------------------\n",
      "Epoch : 10 / 10 - Learning Rate : 0.0001 - Succesfull Train Percentage : 0.0% - Time Passed : 0.12 Second\n",
      "Accuracy : 0.0% - Standard Deviation : 0.1142332930227607\n"
     ]
    }
   ],
   "source": [
    "bnn.train_model(total_epochs, learning_rate_decay_type)"
   ]
  },
  {
   "cell_type": "markdown",
   "id": "21e80e59-dfe1-40c3-a7d4-911af8773390",
   "metadata": {},
   "source": [
    "# Model Performance On 100 Samples of Fraudulent Data"
   ]
  },
  {
   "cell_type": "code",
   "execution_count": 10,
   "id": "a73ef4a1-0ff4-4995-bd74-ea15572439c7",
   "metadata": {},
   "outputs": [],
   "source": [
    "df_1 = df.loc[df['Class'] == 1, :].head(25)"
   ]
  },
  {
   "cell_type": "code",
   "execution_count": 11,
   "id": "b4f7f527-d168-4950-955b-5926592b0249",
   "metadata": {},
   "outputs": [],
   "source": [
    "feature_data = df_1.loc[:, feature_columns].values.reshape(-1, 28, 1)\n",
    "target_data = df_1.loc[:, target_columns].values"
   ]
  },
  {
   "cell_type": "code",
   "execution_count": 12,
   "id": "51f71008-edae-4cc7-ba83-56884405f5ee",
   "metadata": {},
   "outputs": [],
   "source": [
    "input_layer = [28]\n",
    "hidden_layers = [64, 32, 16, 8, 4, 2]\n",
    "output_layer = [1]\n",
    "\n",
    "total_epochs = 10\n",
    "initial_lr = 1e-4\n",
    "end_lr = 1e-8\n",
    "\n",
    "error_type = 'accuracy'\n",
    "learning_rate_decay_type = 'exponential'"
   ]
  },
  {
   "cell_type": "code",
   "execution_count": 13,
   "id": "3d76cb31-5e97-4de7-b766-edad34315b6e",
   "metadata": {},
   "outputs": [],
   "source": [
    "bnn = bayesian_neural_network(input_layer, hidden_layers, output_layer, feature_data, target_data, error_type, initial_lr=initial_lr, end_lr=end_lr)\n",
    "bnn.standardize_dataset()\n",
    "bnn.generate_m()\n",
    "bnn.generate_v()"
   ]
  },
  {
   "cell_type": "code",
   "execution_count": 14,
   "id": "14a96111-6df8-4dae-ac2c-dd8189648063",
   "metadata": {},
   "outputs": [
    {
     "name": "stdout",
     "output_type": "stream",
     "text": [
      "------------------------------------------------------------------------------------------------------------------------------------------------------\n",
      "Epoch : 1 / 10 - Learning Rate : 1.0000000000000001e-07 - Succesfull Train Percentage : 0.0% - Time Passed : 0.12 Second\n",
      "Accuracy : 100.0% - Standard Deviation : 0.18454060121482027\n",
      "------------------------------------------------------------------------------------------------------------------------------------------------------\n",
      "Epoch : 2 / 10 - Learning Rate : 5.0000000000000004e-08 - Succesfull Train Percentage : 0.0% - Time Passed : 0.12 Second\n",
      "Accuracy : 100.0% - Standard Deviation : 0.1926270816644003\n",
      "------------------------------------------------------------------------------------------------------------------------------------------------------\n",
      "Epoch : 3 / 10 - Learning Rate : 3.3333333333333334e-08 - Succesfull Train Percentage : 0.0% - Time Passed : 0.12 Second\n",
      "Accuracy : 100.0% - Standard Deviation : 0.1870973179767936\n",
      "------------------------------------------------------------------------------------------------------------------------------------------------------\n",
      "Epoch : 4 / 10 - Learning Rate : 2.5000000000000002e-08 - Succesfull Train Percentage : 0.0% - Time Passed : 0.12 Second\n",
      "Accuracy : 100.0% - Standard Deviation : 0.1849170027075048\n",
      "------------------------------------------------------------------------------------------------------------------------------------------------------\n",
      "Epoch : 5 / 10 - Learning Rate : 2e-08 - Succesfull Train Percentage : 0.0% - Time Passed : 0.12 Second\n",
      "Accuracy : 100.0% - Standard Deviation : 0.19374515696983935\n",
      "------------------------------------------------------------------------------------------------------------------------------------------------------\n",
      "Epoch : 6 / 10 - Learning Rate : 1.6666666666666667e-08 - Succesfull Train Percentage : 0.0% - Time Passed : 0.12 Second\n",
      "Accuracy : 100.0% - Standard Deviation : 0.19725544463451372\n",
      "------------------------------------------------------------------------------------------------------------------------------------------------------\n",
      "Epoch : 7 / 10 - Learning Rate : 1.4285714285714286e-08 - Succesfull Train Percentage : 0.0% - Time Passed : 0.12 Second\n",
      "Accuracy : 100.0% - Standard Deviation : 0.17779633565498693\n",
      "------------------------------------------------------------------------------------------------------------------------------------------------------\n",
      "Epoch : 8 / 10 - Learning Rate : 1.2500000000000001e-08 - Succesfull Train Percentage : 0.0% - Time Passed : 0.12 Second\n",
      "Accuracy : 100.0% - Standard Deviation : 0.18346132560426043\n",
      "------------------------------------------------------------------------------------------------------------------------------------------------------\n",
      "Epoch : 9 / 10 - Learning Rate : 1.1111111111111112e-08 - Succesfull Train Percentage : 0.0% - Time Passed : 0.12 Second\n",
      "Accuracy : 100.0% - Standard Deviation : 0.16039738791980185\n",
      "------------------------------------------------------------------------------------------------------------------------------------------------------\n",
      "Epoch : 10 / 10 - Learning Rate : 1e-08 - Succesfull Train Percentage : 0.0% - Time Passed : 0.12 Second\n",
      "Accuracy : 100.0% - Standard Deviation : 0.18607417698660733\n"
     ]
    }
   ],
   "source": [
    "bnn.train_model(total_epochs, learning_rate_decay_type)"
   ]
  },
  {
   "cell_type": "code",
   "execution_count": null,
   "id": "6c433a1c-05e5-4fe6-a0c1-1cad58ac8ff9",
   "metadata": {},
   "outputs": [],
   "source": []
  }
 ],
 "metadata": {
  "kernelspec": {
   "display_name": "Python 3 (ipykernel)",
   "language": "python",
   "name": "python3"
  },
  "language_info": {
   "codemirror_mode": {
    "name": "ipython",
    "version": 3
   },
   "file_extension": ".py",
   "mimetype": "text/x-python",
   "name": "python",
   "nbconvert_exporter": "python",
   "pygments_lexer": "ipython3",
   "version": "3.11.7"
  }
 },
 "nbformat": 4,
 "nbformat_minor": 5
}
