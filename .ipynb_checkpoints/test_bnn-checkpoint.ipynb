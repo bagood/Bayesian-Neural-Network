{
 "cells": [
  {
   "cell_type": "code",
   "execution_count": 1,
   "id": "b47fc1ed-9b07-49db-a353-0bec2e319f39",
   "metadata": {},
   "outputs": [],
   "source": [
    "from Bayesian_Neural_Network import bayesian_neural_network\n",
    "import numpy as np\n",
    "import pandas as pd\n",
    "import matplotlib.pyplot as plt\n",
    "\n",
    "np.random.seed(10120024)"
   ]
  },
  {
   "cell_type": "markdown",
   "id": "994025e7-c253-4ecf-9ce9-6b769b873314",
   "metadata": {},
   "source": [
    "# Model Performance On Singular Input"
   ]
  },
  {
   "cell_type": "markdown",
   "id": "48219bc2-57a6-49bb-9002-0a52896ba723",
   "metadata": {},
   "source": [
    "## On Linear Data"
   ]
  },
  {
   "cell_type": "code",
   "execution_count": 2,
   "id": "9edebcba-77ea-479a-8b0d-cf70f03c17c5",
   "metadata": {},
   "outputs": [],
   "source": [
    "input_layer = [1]\n",
    "hidden_layers = [2]\n",
    "output_layer = [1]\n",
    "\n",
    "x_data = np.arange(-5, 5, 0.1) \n",
    "y_data = x_data\n",
    "feature_data = y_data[:-1].reshape(-1, 1, 1)\n",
    "target_data = y_data[1:].reshape(-1, 1, 1)\n",
    "\n",
    "window_size = 1\n",
    "n_epochs = 10\n",
    "learning_rate = 0.0001"
   ]
  },
  {
   "cell_type": "code",
   "execution_count": 3,
   "id": "901f1730-1ac3-43a2-89af-cb9234389165",
   "metadata": {},
   "outputs": [],
   "source": [
    "bnn = bayesian_neural_network(input_layer, hidden_layers, output_layer, feature_data, target_data, learning_rate, window_size)\n",
    "bnn.generate_m()\n",
    "bnn.generate_v()\n",
    "bnn.train(n_epochs)"
   ]
  },
  {
   "cell_type": "code",
   "execution_count": 5,
   "id": "e9426c65-16b4-4d17-9fd8-06b17608f2cb",
   "metadata": {
    "scrolled": true
   },
   "outputs": [],
   "source": [
    "# bnn.visualize_performance()"
   ]
  },
  {
   "cell_type": "code",
   "execution_count": 6,
   "id": "bfb46460-39cb-4831-b587-8d6025e4b646",
   "metadata": {},
   "outputs": [],
   "source": [
    "# bnn.predict_on_seen_data()\n",
    "# bnn.visualize_predictions_on_seen_data()"
   ]
  },
  {
   "cell_type": "code",
   "execution_count": 61,
   "id": "cae31f63-93ea-489e-afbe-859ac81681c8",
   "metadata": {},
   "outputs": [],
   "source": [
    "def activation_function(neuron_value):\n",
    "    return np.array([np.argmax([[0], neuron_value])])"
   ]
  },
  {
   "cell_type": "code",
   "execution_count": 64,
   "id": "38847288-0d86-4929-a796-29265ec13a9f",
   "metadata": {},
   "outputs": [],
   "source": [
    "feature_data_i = bnn.feature_data[2]\n",
    "predictions_i = []\n",
    "for n_iter in range(50):\n",
    "    neuron_values = [np.exp(feature_data_i)]\n",
    "    for mean_i, var_i in zip(bnn.m, bnn.v):\n",
    "        weight = np.random.normal(mean_i, var_i)\n",
    "        layers = weight @ neuron_values[-1]\n",
    "        activated_layers = np.array([activation_function(l) for l in layers])\n",
    "        neuron_values.append(layers)\n",
    "    predictions_i.append(neuron_values[-1][0, 0])"
   ]
  },
  {
   "cell_type": "code",
   "execution_count": 65,
   "id": "f5d5f8cb-4797-4569-9963-65d66257393b",
   "metadata": {},
   "outputs": [
    {
     "data": {
      "text/plain": [
       "[array([[0.00822975]]),\n",
       " array([[1],\n",
       "        [1]]),\n",
       " array([[0]])]"
      ]
     },
     "execution_count": 65,
     "metadata": {},
     "output_type": "execute_result"
    }
   ],
   "source": [
    "neuron_values"
   ]
  },
  {
   "cell_type": "code",
   "execution_count": null,
   "id": "d21a571d-83b3-41c8-84a2-251f57b13f88",
   "metadata": {},
   "outputs": [],
   "source": []
  },
  {
   "cell_type": "code",
   "execution_count": null,
   "id": "ee95b626-5343-4fa1-800b-08b1ba02e956",
   "metadata": {},
   "outputs": [],
   "source": [
    "predictions_i"
   ]
  },
  {
   "cell_type": "code",
   "execution_count": null,
   "id": "4ec060c7-0177-485d-9df4-18b530869185",
   "metadata": {},
   "outputs": [],
   "source": [
    "predictions_mean"
   ]
  },
  {
   "cell_type": "markdown",
   "id": "3cabaacb-8789-423e-b068-af06b941cbf8",
   "metadata": {
    "jp-MarkdownHeadingCollapsed": true
   },
   "source": [
    "## On Sinusoidal Data"
   ]
  },
  {
   "cell_type": "code",
   "execution_count": null,
   "id": "ee92a4e2-8601-44da-933b-e088d36fc25e",
   "metadata": {},
   "outputs": [],
   "source": [
    "input_layer = [1]\n",
    "hidden_layers = [4, 2]\n",
    "output_layer = [1]\n",
    "\n",
    "x_data = np.arange(-5, 5, 0.1) \n",
    "y_data = np.sin(x_data)\n",
    "feature_data = y_data[:-1].reshape(-1, 1, 1)\n",
    "target_data = y_data[1:].reshape(-1, 1, 1)\n",
    "\n",
    "window_size = 1\n",
    "n_epochs = 25\n",
    "learning_rate = 0.001"
   ]
  },
  {
   "cell_type": "code",
   "execution_count": null,
   "id": "af8d3106-09dc-490a-a5ee-453d40d480dd",
   "metadata": {},
   "outputs": [],
   "source": [
    "bnn = bayesian_neural_network(input_layer, hidden_layers, output_layer, feature_data, target_data, learning_rate, window_size)\n",
    "bnn.generate_m()\n",
    "bnn.generate_v()\n",
    "bnn.train(n_epochs)"
   ]
  },
  {
   "cell_type": "code",
   "execution_count": null,
   "id": "76e66b27-02e7-4e07-a24f-9785680ee64e",
   "metadata": {},
   "outputs": [],
   "source": [
    "bnn.visualize_performance()"
   ]
  },
  {
   "cell_type": "code",
   "execution_count": null,
   "id": "56b27dd6-425f-4d80-a0fb-bd6bcf7fa99c",
   "metadata": {},
   "outputs": [],
   "source": [
    "bnn.predict_on_seen_data()\n",
    "bnn.visualize_predictions_on_seen_data()"
   ]
  },
  {
   "cell_type": "markdown",
   "id": "7519fc8c-05e1-45eb-bcb0-82ad2ef26a01",
   "metadata": {
    "jp-MarkdownHeadingCollapsed": true
   },
   "source": [
    "# Model Performance On Multiple Inputs"
   ]
  },
  {
   "cell_type": "code",
   "execution_count": null,
   "id": "96b069d1-9fa8-4e91-b240-97f89a9038c3",
   "metadata": {},
   "outputs": [],
   "source": [
    "def generate_windowed_dataset(data, window_size):\n",
    "    return np.array([y_data[i:i+window_size].reshape(-1, 1) for i in range(len(y_data) - window_size + 1)])"
   ]
  },
  {
   "cell_type": "markdown",
   "id": "f665cb94-4f5c-457c-be8f-11ae4b7fc195",
   "metadata": {
    "jp-MarkdownHeadingCollapsed": true
   },
   "source": [
    "## On Linear Data"
   ]
  },
  {
   "cell_type": "code",
   "execution_count": null,
   "id": "02f4c483-4c9e-4ea5-b196-93b16bae6a65",
   "metadata": {},
   "outputs": [],
   "source": [
    "input_layer = [2]\n",
    "hidden_layers = [4, 2]\n",
    "output_layer = [1]\n",
    "\n",
    "x_data = np.arange(-5, 5, 0.1) \n",
    "y_data = x_data\n",
    "\n",
    "window_size = 2\n",
    "feature_data = generate_windowed_dataset(y_data, window_size)\n",
    "target_data = y_data.reshape(-1, 1, 1)[window_size-1:]\n",
    "\n",
    "n_epochs = 25\n",
    "learning_rate = 0.001"
   ]
  },
  {
   "cell_type": "code",
   "execution_count": null,
   "id": "c1bfe1f6-2f43-48eb-8156-b7040d5cae67",
   "metadata": {},
   "outputs": [],
   "source": [
    "bnn = bayesian_neural_network(input_layer, hidden_layers, output_layer, feature_data, target_data, learning_rate, window_size)\n",
    "bnn.generate_m()\n",
    "bnn.generate_v()\n",
    "bnn.train(n_epochs)"
   ]
  },
  {
   "cell_type": "code",
   "execution_count": null,
   "id": "f98b43e3-78da-4282-aef5-eb6c0d2ac495",
   "metadata": {},
   "outputs": [],
   "source": [
    "bnn.visualize_performance()"
   ]
  },
  {
   "cell_type": "code",
   "execution_count": null,
   "id": "6532257a-335f-488b-b449-da5f6b62e5ea",
   "metadata": {},
   "outputs": [],
   "source": [
    "bnn.predict_on_seen_data()\n",
    "bnn.visualize_predictions_on_seen_data()"
   ]
  },
  {
   "cell_type": "markdown",
   "id": "a31db19a-0ba5-4d25-aa90-767c46f78a55",
   "metadata": {
    "jp-MarkdownHeadingCollapsed": true
   },
   "source": [
    "## On Sinusoidal Data"
   ]
  },
  {
   "cell_type": "code",
   "execution_count": null,
   "id": "b973a1c5-41d2-4b83-b1db-f05cf1b10dd8",
   "metadata": {},
   "outputs": [],
   "source": [
    "input_layer = [3]\n",
    "hidden_layers = [4, 2, 2]\n",
    "output_layer = [1]\n",
    "\n",
    "x_data = np.arange(-5, 5, 0.1) \n",
    "y_data = np.sin(x_data)\n",
    "\n",
    "window_size = 3\n",
    "feature_data = generate_windowed_dataset(y_data, window_size)\n",
    "target_data = y_data.reshape(-1, 1, 1)[window_size-1:]\n",
    "\n",
    "n_epochs = 25\n",
    "learning_rate = 0.001"
   ]
  },
  {
   "cell_type": "code",
   "execution_count": null,
   "id": "7b8af1d9-9b89-41a3-bc5b-550cbe8f10fc",
   "metadata": {},
   "outputs": [],
   "source": [
    "bnn = bayesian_neural_network(input_layer, hidden_layers, output_layer, feature_data, target_data, learning_rate, window_size)\n",
    "bnn.generate_m()\n",
    "bnn.generate_v()\n",
    "bnn.train(n_epochs)"
   ]
  },
  {
   "cell_type": "code",
   "execution_count": null,
   "id": "9405b075-a0e8-44fa-b4c9-e79d68c70c29",
   "metadata": {},
   "outputs": [],
   "source": [
    "bnn.visualize_performance()"
   ]
  },
  {
   "cell_type": "code",
   "execution_count": null,
   "id": "b699d3b0-b72f-4a10-956f-f8cbbfc0b09a",
   "metadata": {},
   "outputs": [],
   "source": [
    "bnn.predict_on_seen_data()\n",
    "bnn.visualize_predictions_on_seen_data()"
   ]
  },
  {
   "cell_type": "code",
   "execution_count": null,
   "id": "6d09035f-3f37-4b58-b30c-698eb4e8e419",
   "metadata": {},
   "outputs": [],
   "source": []
  }
 ],
 "metadata": {
  "kernelspec": {
   "display_name": "Python 3 (ipykernel)",
   "language": "python",
   "name": "python3"
  },
  "language_info": {
   "codemirror_mode": {
    "name": "ipython",
    "version": 3
   },
   "file_extension": ".py",
   "mimetype": "text/x-python",
   "name": "python",
   "nbconvert_exporter": "python",
   "pygments_lexer": "ipython3",
   "version": "3.11.7"
  }
 },
 "nbformat": 4,
 "nbformat_minor": 5
}
