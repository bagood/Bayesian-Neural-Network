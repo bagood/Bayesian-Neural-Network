{
 "cells": [
  {
   "cell_type": "code",
   "execution_count": 1,
   "id": "68d7cffb-eee6-40ae-a06a-fbde39bcd7a2",
   "metadata": {},
   "outputs": [],
   "source": [
    "from Bayesian_Neural_Network import bayesian_neural_network\n",
    "from BNN_Learning_Rate_Tuning import bnn_learning_rate_tuning\n",
    "\n",
    "import numpy as np\n",
    "import pandas as pd\n",
    "import matplotlib.pyplot as plt\n",
    "\n",
    "np.random.seed(10120024)"
   ]
  },
  {
   "cell_type": "markdown",
   "id": "994025e7-c253-4ecf-9ce9-6b769b873314",
   "metadata": {},
   "source": [
    "# Model Performance On Singular Input"
   ]
  },
  {
   "cell_type": "markdown",
   "id": "48219bc2-57a6-49bb-9002-0a52896ba723",
   "metadata": {},
   "source": [
    "## On Linear Data"
   ]
  },
  {
   "cell_type": "code",
   "execution_count": 12,
   "id": "c54dd8b0-52f3-4c16-9f2e-10d47456be09",
   "metadata": {},
   "outputs": [],
   "source": [
    "input_layer = [1]\n",
    "hidden_layers = [2]\n",
    "output_layer = [1]\n",
    "\n",
    "x_data = np.arange(-5, 5, 0.1) \n",
    "y_data = x_data\n",
    "\n",
    "feature_data = y_data[:-1].reshape(-1, 1, 1)\n",
    "target_data = y_data[1:].reshape(-1, 1, 1)\n",
    "\n",
    "total_epochs = 250\n",
    "initial_lr = 1e-2\n",
    "end_lr = 1e-4\n",
    "learning_rate_decay_type = 'exponential'"
   ]
  },
  {
   "cell_type": "code",
   "execution_count": 13,
   "id": "901f1730-1ac3-43a2-89af-cb9234389165",
   "metadata": {},
   "outputs": [],
   "source": [
    "bnn = bayesian_neural_network(input_layer, hidden_layers, output_layer, feature_data, target_data, initial_lr=initial_lr, end_lr=end_lr)\n",
    "bnn.standardize_dataset()\n",
    "bnn.generate_m()\n",
    "bnn.generate_v()"
   ]
  },
  {
   "cell_type": "code",
   "execution_count": null,
   "id": "d4355e1f-d035-4754-ac96-a280e0292b4f",
   "metadata": {},
   "outputs": [],
   "source": [
    "bnn.train_model(total_epochs, learning_rate_decay_type)"
   ]
  },
  {
   "cell_type": "code",
   "execution_count": null,
   "id": "e9426c65-16b4-4d17-9fd8-06b17608f2cb",
   "metadata": {
    "scrolled": true
   },
   "outputs": [],
   "source": [
    "bnn.visualize_performance()"
   ]
  },
  {
   "cell_type": "code",
   "execution_count": null,
   "id": "bfb46460-39cb-4831-b587-8d6025e4b646",
   "metadata": {},
   "outputs": [],
   "source": [
    "bnn.predict_on_seen_data()\n",
    "bnn.visualize_predictions_on_seen_data()"
   ]
  },
  {
   "cell_type": "markdown",
   "id": "9bd027db-34ed-406f-8ab8-59bdc3cd9425",
   "metadata": {
    "jp-MarkdownHeadingCollapsed": true
   },
   "source": [
    "## On Sinusoidal Data"
   ]
  },
  {
   "cell_type": "code",
   "execution_count": null,
   "id": "ee92a4e2-8601-44da-933b-e088d36fc25e",
   "metadata": {},
   "outputs": [],
   "source": [
    "input_layer = [1]\n",
    "hidden_layers = [4]\n",
    "output_layer = [1]\n",
    "\n",
    "x_data = np.arange(-5, 5, 0.1) \n",
    "y_data = np.sin(x_data)\n",
    "\n",
    "feature_data = y_data[:-1].reshape(-1, 1, 1)\n",
    "target_data = y_data[1:].reshape(-1, 1, 1)\n",
    "\n",
    "total_epochs = 250\n",
    "initial_lr = 1\n",
    "end_lr = 1e-4\n",
    "learning_rate_decay_type = 'exponential'"
   ]
  },
  {
   "cell_type": "code",
   "execution_count": null,
   "id": "af8d3106-09dc-490a-a5ee-453d40d480dd",
   "metadata": {},
   "outputs": [],
   "source": [
    "bnn = bayesian_neural_network(input_layer, hidden_layers, output_layer, feature_data, target_data, initial_lr=initial_lr, end_lr=end_lr)\n",
    "bnn.standardize_dataset()\n",
    "bnn.generate_m()\n",
    "bnn.generate_v()"
   ]
  },
  {
   "cell_type": "code",
   "execution_count": null,
   "id": "238e42e5-0b65-4688-a01d-6572ef2a7b78",
   "metadata": {},
   "outputs": [],
   "source": [
    "bnn.train_model(total_epochs, learning_rate_decay_type)"
   ]
  },
  {
   "cell_type": "code",
   "execution_count": null,
   "id": "76e66b27-02e7-4e07-a24f-9785680ee64e",
   "metadata": {},
   "outputs": [],
   "source": [
    "bnn.visualize_performance()"
   ]
  },
  {
   "cell_type": "code",
   "execution_count": null,
   "id": "56b27dd6-425f-4d80-a0fb-bd6bcf7fa99c",
   "metadata": {},
   "outputs": [],
   "source": [
    "bnn.predict_on_seen_data()\n",
    "bnn.visualize_predictions_on_seen_data()"
   ]
  },
  {
   "cell_type": "markdown",
   "id": "7519fc8c-05e1-45eb-bcb0-82ad2ef26a01",
   "metadata": {},
   "source": [
    "# Model Performance On Multiple Inputs"
   ]
  },
  {
   "cell_type": "markdown",
   "id": "f665cb94-4f5c-457c-be8f-11ae4b7fc195",
   "metadata": {
    "jp-MarkdownHeadingCollapsed": true
   },
   "source": [
    "## On Linear Data"
   ]
  },
  {
   "cell_type": "code",
   "execution_count": null,
   "id": "497efb43-9bb4-451d-9f68-d4c25e4f2e47",
   "metadata": {},
   "outputs": [],
   "source": [
    "input_layer = [2]\n",
    "hidden_layers = [2, 1]\n",
    "output_layer = [1]\n",
    "\n",
    "x_data = np.arange(-5, 5, 0.1) \n",
    "y_data = x_data\n",
    "\n",
    "feature_data = y_data\n",
    "target_data = y_data.reshape(-1, 1, 1)\n",
    "\n",
    "window_size = 2\n",
    "initial_lr = 1e-2\n",
    "end_lr = 1e-4\n",
    "\n",
    "total_epochs = 250\n",
    "learning_rate_decay_type = 'exponential'"
   ]
  },
  {
   "cell_type": "code",
   "execution_count": null,
   "id": "c1bfe1f6-2f43-48eb-8156-b7040d5cae67",
   "metadata": {},
   "outputs": [],
   "source": [
    "bnn = bayesian_neural_network(input_layer, hidden_layers, output_layer, feature_data, target_data, window_size=window_size, initial_lr=initial_lr, end_lr=end_lr)\n",
    "bnn.generate_windowed_dataset()\n",
    "bnn.standardize_dataset()\n",
    "bnn.generate_m()\n",
    "bnn.generate_v()"
   ]
  },
  {
   "cell_type": "code",
   "execution_count": null,
   "id": "78663133-0157-4ef1-bcfe-e3ee8d03003f",
   "metadata": {},
   "outputs": [],
   "source": [
    "bnn.train_model(total_epochs, learning_rate_decay_type)"
   ]
  },
  {
   "cell_type": "code",
   "execution_count": null,
   "id": "f98b43e3-78da-4282-aef5-eb6c0d2ac495",
   "metadata": {},
   "outputs": [],
   "source": [
    "bnn.visualize_performance()"
   ]
  },
  {
   "cell_type": "code",
   "execution_count": null,
   "id": "6532257a-335f-488b-b449-da5f6b62e5ea",
   "metadata": {},
   "outputs": [],
   "source": [
    "bnn.predict_on_seen_data()\n",
    "bnn.visualize_predictions_on_seen_data()"
   ]
  },
  {
   "cell_type": "markdown",
   "id": "a31db19a-0ba5-4d25-aa90-767c46f78a55",
   "metadata": {
    "jp-MarkdownHeadingCollapsed": true
   },
   "source": [
    "## On Sinusoidal Data"
   ]
  },
  {
   "cell_type": "code",
   "execution_count": null,
   "id": "e3b30a3c-c8bb-4d4d-b07e-73dd8d85a2fc",
   "metadata": {},
   "outputs": [],
   "source": [
    "input_layer = [2]\n",
    "hidden_layers = [4, 2]\n",
    "output_layer = [1]\n",
    "\n",
    "x_data = np.arange(-5, 5, 0.1) \n",
    "y_data = np.sin(x_data) * x_data\n",
    "\n",
    "feature_data = y_data\n",
    "target_data = y_data.reshape(-1, 1, 1)\n",
    "\n",
    "window_size = 2\n",
    "initial_lr = 1\n",
    "end_lr = 1e-4\n",
    "\n",
    "total_epochs = 250\n",
    "learning_rate_decay_type = 'exponential'"
   ]
  },
  {
   "cell_type": "code",
   "execution_count": null,
   "id": "7b8af1d9-9b89-41a3-bc5b-550cbe8f10fc",
   "metadata": {},
   "outputs": [],
   "source": [
    "bnn = bayesian_neural_network(input_layer, hidden_layers, output_layer, feature_data, target_data, window_size=window_size, initial_lr=initial_lr, end_lr=end_lr)\n",
    "bnn.generate_windowed_dataset()\n",
    "bnn.standardize_dataset()\n",
    "bnn.generate_m()\n",
    "bnn.generate_v()"
   ]
  },
  {
   "cell_type": "code",
   "execution_count": null,
   "id": "3c682ece-0870-486f-a712-85dc0bb5e51e",
   "metadata": {},
   "outputs": [],
   "source": [
    "bnn.train_model(total_epochs, learning_rate_decay_type)"
   ]
  },
  {
   "cell_type": "code",
   "execution_count": null,
   "id": "9405b075-a0e8-44fa-b4c9-e79d68c70c29",
   "metadata": {},
   "outputs": [],
   "source": [
    "bnn.visualize_performance()"
   ]
  },
  {
   "cell_type": "code",
   "execution_count": null,
   "id": "b699d3b0-b72f-4a10-956f-f8cbbfc0b09a",
   "metadata": {},
   "outputs": [],
   "source": [
    "bnn.predict_on_seen_data()\n",
    "bnn.visualize_predictions_on_seen_data()"
   ]
  },
  {
   "cell_type": "markdown",
   "id": "74464d25-ad14-4ec5-98cf-34d126d76379",
   "metadata": {
    "jp-MarkdownHeadingCollapsed": true
   },
   "source": [
    "# Model Learning Rate Tuning"
   ]
  },
  {
   "cell_type": "code",
   "execution_count": null,
   "id": "72655a9a-0e18-4ece-b33a-ffea0e1385c3",
   "metadata": {},
   "outputs": [],
   "source": [
    "x_data = np.arange(-5, 5, 0.1) \n",
    "y_data = np.sin(x_data) * x_data"
   ]
  },
  {
   "cell_type": "code",
   "execution_count": null,
   "id": "bc23bc22-2cee-43c7-b38c-572177fda1bd",
   "metadata": {},
   "outputs": [],
   "source": [
    "input_layer = [2]\n",
    "hidden_layers = [4, 2]\n",
    "output_layer = [1]\n",
    "\n",
    "feature_data = y_data\n",
    "target_data = y_data.reshape(-1, 1, 1)\n",
    "\n",
    "initial_lr = 1\n",
    "end_lr = 3\n",
    "total_iters = 10\n",
    "tuning_epochs = 5\n",
    "window_size = 2"
   ]
  },
  {
   "cell_type": "code",
   "execution_count": null,
   "id": "f6dab4e9-062a-457f-b397-a1b68b04646f",
   "metadata": {},
   "outputs": [],
   "source": [
    "bnn_lr_tuning = bnn_learning_rate_tuning(input_layer, hidden_layers, output_layer, feature_data, target_data, window_size=window_size, initial_lr_power=initial_lr, end_lr_power=end_lr, total_iters=total_iters, tuning_epochs=tuning_epochs)"
   ]
  },
  {
   "cell_type": "code",
   "execution_count": null,
   "id": "9ceec577-6415-4131-81d4-40224b3a0b4f",
   "metadata": {},
   "outputs": [],
   "source": [
    "bnn_lr_tuning.learning_rate_tuning()"
   ]
  },
  {
   "cell_type": "code",
   "execution_count": null,
   "id": "c57b736e-7b06-4d42-9ef2-66fea1e62d18",
   "metadata": {},
   "outputs": [],
   "source": [
    "bnn_lr_tuning.visualize_learning_rate_tuning()"
   ]
  },
  {
   "cell_type": "markdown",
   "id": "b62d0abb-4bbd-4dda-8811-281b9f2861cf",
   "metadata": {
    "jp-MarkdownHeadingCollapsed": true
   },
   "source": [
    "# Model Performance On Data With Outliers"
   ]
  },
  {
   "cell_type": "markdown",
   "id": "2138590d-9bad-4e89-bcd7-c869a7dbeb13",
   "metadata": {
    "jp-MarkdownHeadingCollapsed": true
   },
   "source": [
    "## Data Preparation"
   ]
  },
  {
   "cell_type": "code",
   "execution_count": null,
   "id": "ff35e227-18f7-4d84-b59e-a6e378ef793c",
   "metadata": {},
   "outputs": [],
   "source": [
    "x_data = np.arange(-5, 5, 0.1) \n",
    "y_data = np.sin(x_data) * x_data\n",
    "\n",
    "y_data[5] *= 0.75\n",
    "y_data[15] *= 2\n",
    "y_data[40] *= 0.1\n",
    "y_data[70] *= 0.5\n",
    "y_data[-20] *= 2.5\n",
    "\n",
    "feature_data = y_data\n",
    "target_data = y_data.reshape(-1, 1, 1)"
   ]
  },
  {
   "cell_type": "code",
   "execution_count": null,
   "id": "75bab017-a072-4d88-adec-ad962025b0fa",
   "metadata": {},
   "outputs": [],
   "source": [
    "fig = plt.figure()\n",
    "fig.set_size_inches(15, 5)\n",
    "plt.plot(x_data, y_data)"
   ]
  },
  {
   "cell_type": "markdown",
   "id": "e90a2388-64b4-422f-9c4c-5d1dce0a0908",
   "metadata": {
    "jp-MarkdownHeadingCollapsed": true
   },
   "source": [
    "## Learning Rate Tuning"
   ]
  },
  {
   "cell_type": "code",
   "execution_count": null,
   "id": "b0e9a9c7-1a4e-4de6-a558-d2fb36356889",
   "metadata": {},
   "outputs": [],
   "source": [
    "input_layer = [2]\n",
    "hidden_layers = [4, 2]\n",
    "output_layer = [1]\n",
    "\n",
    "initial_lr_power = 1\n",
    "end_lr_power = 5\n",
    "total_iters = 10\n",
    "tuning_epochs = 5\n",
    "window_size = 2"
   ]
  },
  {
   "cell_type": "code",
   "execution_count": null,
   "id": "b999d65a-4057-40f5-85e5-6de48b9d532e",
   "metadata": {},
   "outputs": [],
   "source": [
    "bnn_lr_tuning = bnn_learning_rate_tuning(input_layer, hidden_layers, output_layer, feature_data, target_data, window_size=window_size, initial_lr_power=initial_lr_power, end_lr_power=end_lr_power, total_iters=total_iters, tuning_epochs=tuning_epochs)"
   ]
  },
  {
   "cell_type": "code",
   "execution_count": null,
   "id": "766ce666-32af-49a4-a3d6-b83c674b9363",
   "metadata": {},
   "outputs": [],
   "source": [
    "bnn_lr_tuning.learning_rate_tuning()"
   ]
  },
  {
   "cell_type": "code",
   "execution_count": null,
   "id": "33a257da-2f99-4255-ad4f-3ee4b4df71d2",
   "metadata": {},
   "outputs": [],
   "source": [
    "bnn_lr_tuning.visualize_learning_rate_tuning()"
   ]
  },
  {
   "cell_type": "code",
   "execution_count": null,
   "id": "0c81d0ab-cfb2-4e7c-9dd8-0a61a48a9c8c",
   "metadata": {},
   "outputs": [],
   "source": [
    "bnn_lr_tuning.learning_rates"
   ]
  },
  {
   "cell_type": "markdown",
   "id": "d0ba479d-39e6-4f76-9b98-bb25535fd0cd",
   "metadata": {
    "jp-MarkdownHeadingCollapsed": true
   },
   "source": [
    "## Model Fitting and Performances"
   ]
  },
  {
   "cell_type": "code",
   "execution_count": null,
   "id": "3e29232e-0c58-4753-aa1b-3063eabcf5b0",
   "metadata": {},
   "outputs": [],
   "source": [
    "input_layer = [2]\n",
    "hidden_layers = [4, 2]\n",
    "output_layer = [1]\n",
    "\n",
    "window_size = 2\n",
    "initial_lr = 8e-3\n",
    "end_lr = 3e-3\n",
    "\n",
    "total_epochs = 250\n",
    "learning_rate_decay_type = 'exponential'"
   ]
  },
  {
   "cell_type": "code",
   "execution_count": null,
   "id": "362aa2cb-36d3-44cf-aad7-49fed910f73c",
   "metadata": {},
   "outputs": [],
   "source": [
    "bnn = bayesian_neural_network(input_layer, hidden_layers, output_layer, feature_data, target_data, window_size=window_size, initial_lr=initial_lr, end_lr=end_lr)\n",
    "bnn.generate_windowed_dataset()\n",
    "bnn.standardize_dataset()\n",
    "bnn.generate_m()\n",
    "bnn.generate_v()"
   ]
  },
  {
   "cell_type": "code",
   "execution_count": null,
   "id": "e8ad1aee-a778-45d7-b0a2-97571e7abffa",
   "metadata": {},
   "outputs": [],
   "source": [
    "bnn.train_model(total_epochs, learning_rate_decay_type)"
   ]
  },
  {
   "cell_type": "code",
   "execution_count": null,
   "id": "7dbe4dbb-a943-4ac6-88e1-d6caecdcf954",
   "metadata": {},
   "outputs": [],
   "source": [
    "bnn.visualize_performance()"
   ]
  },
  {
   "cell_type": "code",
   "execution_count": null,
   "id": "899c98cb-0fdb-4953-aeb5-39fbc2739323",
   "metadata": {},
   "outputs": [],
   "source": [
    "bnn.predict_on_seen_data()\n",
    "bnn.visualize_predictions_on_seen_data()"
   ]
  },
  {
   "cell_type": "code",
   "execution_count": null,
   "id": "0aa7a080-fe65-46ac-97b8-cc8cc5bed8d7",
   "metadata": {},
   "outputs": [],
   "source": []
  }
 ],
 "metadata": {
  "kernelspec": {
   "display_name": "Python 3 (ipykernel)",
   "language": "python",
   "name": "python3"
  },
  "language_info": {
   "codemirror_mode": {
    "name": "ipython",
    "version": 3
   },
   "file_extension": ".py",
   "mimetype": "text/x-python",
   "name": "python",
   "nbconvert_exporter": "python",
   "pygments_lexer": "ipython3",
   "version": "3.11.7"
  }
 },
 "nbformat": 4,
 "nbformat_minor": 5
}
