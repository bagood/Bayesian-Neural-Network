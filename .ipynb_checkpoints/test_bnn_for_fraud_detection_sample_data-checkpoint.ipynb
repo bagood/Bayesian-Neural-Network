{
 "cells": [
  {
   "cell_type": "code",
   "execution_count": null,
   "id": "70856a33-e296-49a1-a0e5-c8f9b8264c61",
   "metadata": {},
   "outputs": [],
   "source": [
    "from Bayesian_Neural_Network import bayesian_neural_network\n",
    "\n",
    "import numpy as np\n",
    "import pandas as pd\n",
    "import seaborn as sns\n",
    "import matplotlib.pyplot as plt\n",
    "\n",
    "np.random.seed(10120024)"
   ]
  },
  {
   "cell_type": "markdown",
   "id": "ba2943b2-db2b-44cd-9a2f-88a29b09e4fe",
   "metadata": {},
   "source": [
    "# Data Preparation"
   ]
  },
  {
   "cell_type": "code",
   "execution_count": null,
   "id": "0e17e7ac-33d6-4962-8968-a56581eb3134",
   "metadata": {},
   "outputs": [],
   "source": [
    "data = pd.read_csv('processed_data.csv')\n",
    "undersampled_data = pd.read_csv('undersampled_data.csv')\n",
    "undersampled_data_train = pd.read_csv('undersampled_data_train.csv')\n",
    "undersampled_data_test = pd.read_csv('undersampled_data_test.csv')\n",
    "\n",
    "feature_columns = undersampled_data.columns[:-1]\n",
    "target_columns = undersampled_data.columns[-1]"
   ]
  },
  {
   "cell_type": "markdown",
   "id": "7d09c729-fd3b-4878-b0d4-e4df343f66c4",
   "metadata": {},
   "source": [
    "# Bayesian Neural Network Development"
   ]
  },
  {
   "cell_type": "markdown",
   "id": "4ccf5788-3390-4241-ae68-71b06a96f0d1",
   "metadata": {},
   "source": [
    "## Trains The Model Using The Undersampled Train Data"
   ]
  },
  {
   "cell_type": "code",
   "execution_count": null,
   "id": "1e5db924-4501-4073-b2a5-bbc1a2ef321d",
   "metadata": {},
   "outputs": [],
   "source": [
    "np.random.seed(10120024)\n",
    "\n",
    "input_layer = [len(feature_columns)]\n",
    "hidden_layers = [48, 64, 32]\n",
    "output_layer = [1]\n",
    "\n",
    "total_epochs = 100\n",
    "initial_lr = 1e-2\n",
    "lr_decay_rate = 0.95\n",
    "batch_size = 20"
   ]
  },
  {
   "cell_type": "code",
   "execution_count": null,
   "id": "0acb45f3-61fa-480a-b6c4-20591812516c",
   "metadata": {},
   "outputs": [],
   "source": [
    "bnn = bayesian_neural_network(input_layer, \n",
    "                                hidden_layers, \n",
    "                                output_layer, \n",
    "                                undersampled_data_train[feature_columns].values, \n",
    "                                undersampled_data_train[target_columns].values, \n",
    "                                batch_size=batch_size,\n",
    "                                initial_lr=initial_lr, \n",
    "                                lr_decay_rate=lr_decay_rate,\n",
    "                                total_epochs=total_epochs)"
   ]
  },
  {
   "cell_type": "code",
   "execution_count": null,
   "id": "c50a9ea0-1c08-4129-b54a-cda2bb154d5c",
   "metadata": {
    "scrolled": true
   },
   "outputs": [],
   "source": [
    "bnn.train_model()"
   ]
  },
  {
   "cell_type": "code",
   "execution_count": null,
   "id": "7ea0282e-5102-4eba-a0e8-d1428809a829",
   "metadata": {},
   "outputs": [],
   "source": [
    "bnn.visualize_model_performance('performa_sampel_data_vis')"
   ]
  },
  {
   "cell_type": "markdown",
   "id": "63c22bfc-d3a7-4cb9-af57-2e30c09971fd",
   "metadata": {},
   "source": [
    "# Evaluate Model's Performance on Undersampled Train Data"
   ]
  },
  {
   "cell_type": "code",
   "execution_count": null,
   "id": "551ba1a7-a3c9-4077-a33a-135dc3a191bd",
   "metadata": {},
   "outputs": [],
   "source": [
    "train_data_result, train_data_eval = bnn.predict_and_evaluate(undersampled_data_train[feature_columns].values, undersampled_data_train[target_columns].values)"
   ]
  },
  {
   "cell_type": "code",
   "execution_count": null,
   "id": "08648eb6-e724-4a33-a647-ace0858de2fa",
   "metadata": {},
   "outputs": [],
   "source": [
    "# sns.boxplot(data=train_data_result, x='Kebenaran Prediksi', y='Tingkat Kepercayaan Terhadap Prediksi (%)', hue='Prediksi', palette=\"ch:s=.25,rot=-.25\")"
   ]
  },
  {
   "cell_type": "code",
   "execution_count": null,
   "id": "de345ace-0245-4d03-b7f6-d613ef8de03c",
   "metadata": {},
   "outputs": [],
   "source": [
    "train_data_eval"
   ]
  },
  {
   "cell_type": "markdown",
   "id": "1545bc44-fc6f-4045-a139-9279826dbe6f",
   "metadata": {},
   "source": [
    "# Evaluate Model's Performance on Undersampled Test Data"
   ]
  },
  {
   "cell_type": "code",
   "execution_count": null,
   "id": "4479ed6d-7d9c-40b5-8d45-dcc9f8d45dd5",
   "metadata": {},
   "outputs": [],
   "source": [
    "test_data_result, test_data_eval = bnn.predict_and_evaluate(undersampled_data_test[feature_columns].values, undersampled_data_test[target_columns].values)"
   ]
  },
  {
   "cell_type": "code",
   "execution_count": null,
   "id": "d17d6c18-7c25-4dac-a48c-39b0c8df978c",
   "metadata": {},
   "outputs": [],
   "source": [
    "# sns.boxplot(data=test_data_result, x='Kebenaran Prediksi', y='Tingkat Kepercayaan Terhadap Prediksi (%)', hue='Prediksi', palette=\"ch:s=.25,rot=-.25\")"
   ]
  },
  {
   "cell_type": "code",
   "execution_count": null,
   "id": "1cfb0632-1088-40e9-8be4-001965a46d9f",
   "metadata": {},
   "outputs": [],
   "source": [
    "test_data_eval"
   ]
  },
  {
   "cell_type": "markdown",
   "id": "8aa730d2-c632-4b48-9ac5-b792871870ad",
   "metadata": {},
   "source": [
    "# Evaluate Model's Performance on Data"
   ]
  },
  {
   "cell_type": "code",
   "execution_count": null,
   "id": "c8adc8ff-b313-4470-b0f9-e3730aa53669",
   "metadata": {},
   "outputs": [],
   "source": [
    "data_result, data_eval = bnn.predict_and_evaluate(data[feature_columns].values, data[target_columns].values)"
   ]
  },
  {
   "cell_type": "code",
   "execution_count": null,
   "id": "4943aebc-26d0-4a8e-8aa8-eaa81578d25d",
   "metadata": {},
   "outputs": [],
   "source": [
    "data_eval"
   ]
  },
  {
   "cell_type": "code",
   "execution_count": null,
   "id": "0a5bd8a2-519c-425c-9348-bb30bca00efa",
   "metadata": {},
   "outputs": [],
   "source": [
    "fig = plt.figure()\n",
    "fig.set_size_inches(8, 4)\n",
    "sns.boxplot(data=data_result, x='Kebenaran Prediksi', y='Tingkat Kepercayaan Terhadap Prediksi (%)', hue='Prediksi', palette=\"ch:s=.25,rot=-.25\")\n",
    "plt.savefig('kepercayaan_data_sampel_vis.png')"
   ]
  },
  {
   "cell_type": "code",
   "execution_count": null,
   "id": "a80ca026-4aa4-40c6-8159-d210e550f825",
   "metadata": {},
   "outputs": [],
   "source": [
    "data_result.loc[(data_result['Prediksi'] == 'Fraud') & (data_result['Kebenaran Prediksi'] == True), 'Confidence Rate'].quantile(q=0.25)"
   ]
  },
  {
   "cell_type": "code",
   "execution_count": null,
   "id": "2146601f-b062-406b-9c85-90487ef197b8",
   "metadata": {},
   "outputs": [],
   "source": [
    "data_result['Prediksi Termodifikasi'] = data_result.apply(lambda row: -1 if (row['Prediksi'] == 1) & (row['Kebenaran Prediksi'] == False) & (row['Tingkat Kepercayaan Terhadap Prediksi (%)'] < 68.8) else row['Prediksi'], axis=1) "
   ]
  },
  {
   "cell_type": "code",
   "execution_count": null,
   "id": "d242dfc9-1a5f-4497-bf10-5db3a012f09f",
   "metadata": {},
   "outputs": [],
   "source": [
    "data_result.head()"
   ]
  },
  {
   "cell_type": "code",
   "execution_count": null,
   "id": "31c36318-a2c4-4ffd-b47b-6ac0099589f5",
   "metadata": {},
   "outputs": [],
   "source": [
    "bnn._calculate_prediction_confusion_matrix(data_result['Prediksi Termodifikasi'].apply(lambda row: 1 if row == 'Fraud' else -1), \n",
    "                                           data_result['Keluaran Aktual'].apply(lambda row: 1 if row == 'Fraud' else -1))"
   ]
  }
 ],
 "metadata": {
  "kernelspec": {
   "display_name": "Python 3 (ipykernel)",
   "language": "python",
   "name": "python3"
  },
  "language_info": {
   "codemirror_mode": {
    "name": "ipython",
    "version": 3
   },
   "file_extension": ".py",
   "mimetype": "text/x-python",
   "name": "python",
   "nbconvert_exporter": "python",
   "pygments_lexer": "ipython3",
   "version": "3.11.7"
  }
 },
 "nbformat": 4,
 "nbformat_minor": 5
}
