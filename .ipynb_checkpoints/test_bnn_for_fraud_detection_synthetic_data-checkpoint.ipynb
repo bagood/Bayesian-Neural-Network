{
 "cells": [
  {
   "cell_type": "code",
   "execution_count": null,
   "id": "d7c24321-b64b-46ef-ad7f-3e1ef574bd04",
   "metadata": {},
   "outputs": [],
   "source": [
    "from Bayesian_Neural_Network import bayesian_neural_network\n",
    "\n",
    "import numpy as np\n",
    "import pandas as pd\n",
    "import seaborn as sns\n",
    "from scipy.stats import norm\n",
    "import matplotlib.pyplot as plt\n",
    "from sklearn.datasets import make_classification\n",
    "from sklearn.model_selection import train_test_split\n",
    "\n",
    "np.random.seed(10120024)"
   ]
  },
  {
   "cell_type": "markdown",
   "id": "32dea43a-9cfb-438f-b165-f452d3667f83",
   "metadata": {},
   "source": [
    "# Data Preparation"
   ]
  },
  {
   "cell_type": "code",
   "execution_count": null,
   "id": "cb5c5b1c-c1ce-4c54-88fd-d70acc4baecc",
   "metadata": {},
   "outputs": [],
   "source": [
    "feature_data, target_data = make_classification(\n",
    "                            n_samples=200, \n",
    "                            n_features=2, \n",
    "                            n_redundant=0, \n",
    "                            n_clusters_per_class=1, \n",
    "                            weights=[0.5], \n",
    "                            flip_y=0, \n",
    "                            random_state=10120024\n",
    "                            )\n",
    "\n",
    "target_data[target_data == 0] = -1"
   ]
  },
  {
   "cell_type": "code",
   "execution_count": null,
   "id": "47aecf42-c94e-4126-aa56-8430e40121ae",
   "metadata": {},
   "outputs": [],
   "source": [
    "feature_data_train, feature_data_test, target_data_train, target_data_test = train_test_split(\n",
    "                                                                                                feature_data, \n",
    "                                                                                                target_data, \n",
    "                                                                                                test_size=0.1, \n",
    "                                                                                                random_state=10120024\n",
    "                                                                                                )"
   ]
  },
  {
   "cell_type": "code",
   "execution_count": null,
   "id": "84715ebd-0fa1-40ef-8598-cfd299c10f83",
   "metadata": {},
   "outputs": [],
   "source": [
    "data = pd.DataFrame({\n",
    "    'Fitur Data 1':feature_data[:, 0],\n",
    "    'Fitur Data 2':feature_data[:, 1],\n",
    "    'Keluaran Aktual - Angka':target_data\n",
    "})\n",
    "\n",
    "data['Keluaran Aktual'] = data['Keluaran Aktual - Angka'].apply(lambda row: 'Kelas A' if row == 1 else 'Kelas B')"
   ]
  },
  {
   "cell_type": "code",
   "execution_count": null,
   "id": "b90e89b8-ad2e-4f9f-849a-8a47e2ab2e2e",
   "metadata": {},
   "outputs": [],
   "source": [
    "fig = plt.figure()\n",
    "fig.set_size_inches(4, 4)\n",
    "sns.scatterplot(data=data, x='Fitur Data 1', y='Fitur Data 2', hue='Keluaran Aktual', palette=\"ch:s=.25,rot=-.25\")\n",
    "plt.savefig('data_sintesis_vis.png')"
   ]
  },
  {
   "cell_type": "markdown",
   "id": "e3ba02ad-6042-48c9-98fc-aa151b72e446",
   "metadata": {},
   "source": [
    "# Model Developments"
   ]
  },
  {
   "cell_type": "code",
   "execution_count": null,
   "id": "0d6c7e45-2f8c-4761-88f4-9a46c7372586",
   "metadata": {},
   "outputs": [],
   "source": [
    "input_layer = [2]\n",
    "hidden_layers = [4, 4]\n",
    "output_layer = [1]\n",
    "\n",
    "total_epochs = 100\n",
    "initial_lr = 1e-2\n",
    "lr_decay_rate = 0.98\n",
    "batch_size = 25"
   ]
  },
  {
   "cell_type": "code",
   "execution_count": null,
   "id": "ca6056ff-8551-4a2a-bda3-3e379ad858ad",
   "metadata": {},
   "outputs": [],
   "source": [
    "np.random.seed(10120024)\n",
    "\n",
    "bnn = bayesian_neural_network(input_layer, \n",
    "                                hidden_layers, \n",
    "                                output_layer, \n",
    "                                feature_data_train, \n",
    "                                target_data_train, \n",
    "                                batch_size=batch_size,\n",
    "                                initial_lr=initial_lr, \n",
    "                                lr_decay_rate=lr_decay_rate,\n",
    "                                total_epochs=total_epochs)"
   ]
  },
  {
   "cell_type": "code",
   "execution_count": null,
   "id": "df5172aa-1fdd-430a-9464-07a6eb59f0ab",
   "metadata": {
    "scrolled": true
   },
   "outputs": [],
   "source": [
    "bnn.train_model()"
   ]
  },
  {
   "cell_type": "code",
   "execution_count": null,
   "id": "f61a3ddb-a975-4740-b82a-155147d6900c",
   "metadata": {},
   "outputs": [],
   "source": [
    "bnn.visualize_model_performance(save_file_name='performa_data_sintesis_vis')"
   ]
  },
  {
   "cell_type": "markdown",
   "id": "6ccf0d34-d3db-4dfb-86e0-17fd57a1a0c3",
   "metadata": {},
   "source": [
    "# Evaluate Model Performance"
   ]
  },
  {
   "cell_type": "code",
   "execution_count": null,
   "id": "9d4b3ab1-bcde-4015-b543-006ffe91ef97",
   "metadata": {},
   "outputs": [],
   "source": [
    "on_seen_data_result, on_seen_data_eval = bnn.predict_and_evaluate(feature_data_train, target_data_train)\n",
    "on_unseen_data_result, on_unseen_data_eval = bnn.predict_and_evaluate(feature_data_test, target_data_test)"
   ]
  },
  {
   "cell_type": "code",
   "execution_count": null,
   "id": "7311714b-7fab-4e8d-a64e-f794fb4726df",
   "metadata": {},
   "outputs": [],
   "source": [
    "on_seen_data_result"
   ]
  },
  {
   "cell_type": "code",
   "execution_count": null,
   "id": "e60660c2-d038-48eb-92c1-894ceaacb9b0",
   "metadata": {},
   "outputs": [],
   "source": [
    "on_seen_data_eval"
   ]
  },
  {
   "cell_type": "code",
   "execution_count": null,
   "id": "503c93f5-52b6-4be7-acac-9105b4087255",
   "metadata": {},
   "outputs": [],
   "source": [
    "on_unseen_data_eval"
   ]
  },
  {
   "cell_type": "code",
   "execution_count": null,
   "id": "67187f6a-56d0-4f96-b20b-1d77b92518d3",
   "metadata": {},
   "outputs": [],
   "source": [
    "on_seen_data_result['Data yang Digunakan'] = 'Data Pengembangan Sintesis'\n",
    "on_unseen_data_result['Data yang Digunakan'] = 'Data Pengujian Sintesis'\n",
    "\n",
    "fig = plt.figure()\n",
    "fig.set_size_inches(8, 4)\n",
    "sns.boxplot(data=pd.concat((on_seen_data_result, on_unseen_data_result)), x='Kebenaran Prediksi', y='Tingkat Kepercayaan Terhadap Prediksi (%)', hue='Data yang Digunakan', palette=\"ch:s=.25,rot=-.25\")\n",
    "fig.savefig('kepercayaan_data_sintesis_vis.png')"
   ]
  },
  {
   "cell_type": "code",
   "execution_count": null,
   "id": "b9e42f6d-f1dd-40c7-a293-5537db43b15e",
   "metadata": {},
   "outputs": [],
   "source": []
  }
 ],
 "metadata": {
  "kernelspec": {
   "display_name": "Python 3 (ipykernel)",
   "language": "python",
   "name": "python3"
  },
  "language_info": {
   "codemirror_mode": {
    "name": "ipython",
    "version": 3
   },
   "file_extension": ".py",
   "mimetype": "text/x-python",
   "name": "python",
   "nbconvert_exporter": "python",
   "pygments_lexer": "ipython3",
   "version": "3.11.7"
  }
 },
 "nbformat": 4,
 "nbformat_minor": 5
}
