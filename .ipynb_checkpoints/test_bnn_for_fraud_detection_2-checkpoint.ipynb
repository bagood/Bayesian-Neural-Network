{
 "cells": [
  {
   "cell_type": "code",
   "execution_count": null,
   "id": "33360bda-0800-48db-8caf-0d7f400bcdbd",
   "metadata": {},
   "outputs": [],
   "source": [
    "from Bayesian_Neural_Network import bayesian_neural_network\n",
    "from BNN_Learning_Rate_Tuning import bnn_learning_rate_tuning\n",
    "\n",
    "import numpy as np\n",
    "import pandas as pd\n",
    "import matplotlib.pyplot as plt\n",
    "\n",
    "np.random.seed(10120024)"
   ]
  },
  {
   "cell_type": "markdown",
   "id": "5c5a1908-e547-4041-b5a8-d822ca851f8d",
   "metadata": {},
   "source": [
    "# Data Preparation"
   ]
  },
  {
   "cell_type": "code",
   "execution_count": null,
   "id": "5c89b018-6fa6-45d5-b42d-f103c50b36ea",
   "metadata": {},
   "outputs": [],
   "source": [
    "# load the dataset\n",
    "df = pd.read_csv('fraud.csv', \n",
    "                    usecols=['type', 'amount', 'oldbalanceOrg', 'newbalanceOrig', 'oldbalanceDest', 'newbalanceDest', 'isFraud'], \n",
    "                    nrows=2500)\n",
    "\n",
    "# perform one-hot-eencoding on the column 'type'\n",
    "dummies_df = pd.get_dummies(df['type'], dtype=int)\n",
    "\n",
    "# concat the original data with the one-hot-encoded data\n",
    "data = pd.concat((df, dummies_df), axis=1) \\\n",
    "            .drop(columns=['type'])\n",
    "\n",
    "# perform min-max standarization\n",
    "for col in data.columns:\n",
    "    data[col] -= np.min(data[col]) \n",
    "    data[col] /= np.max(data[col])\n",
    "\n",
    "data['isFraud'].replace(0, -1, inplace=True)"
   ]
  },
  {
   "cell_type": "code",
   "execution_count": null,
   "id": "49a586a4-8397-40ba-9d44-f374e4708cb4",
   "metadata": {},
   "outputs": [],
   "source": [
    "# percentage of fraud and non-fraud label in the data\n",
    "data['isFraud'].value_counts().to_frame('percentage') / np.sum(data['isFraud'].value_counts()) * 100"
   ]
  },
  {
   "cell_type": "code",
   "execution_count": null,
   "id": "a820e7e5-9fc2-4828-bf23-51317653f38a",
   "metadata": {},
   "outputs": [],
   "source": [
    "# specify the feature and target data\n",
    "feature_columns = data.columns[data.columns != 'isFraud']\n",
    "target_columns = ['isFraud']\n",
    "\n",
    "feature_data = data.loc[:, feature_columns]\n",
    "target_data = data.loc[:, target_columns]"
   ]
  },
  {
   "cell_type": "code",
   "execution_count": null,
   "id": "88df42fd-c352-4678-abcb-96b6bab400d7",
   "metadata": {},
   "outputs": [],
   "source": [
    "feature_data.head()"
   ]
  },
  {
   "cell_type": "code",
   "execution_count": null,
   "id": "adf91816-d929-413d-8fd9-82d499a52085",
   "metadata": {},
   "outputs": [],
   "source": [
    "target_data.head()"
   ]
  },
  {
   "cell_type": "code",
   "execution_count": null,
   "id": "c55a50dc-5e0a-4f37-bfeb-d38d279d91a8",
   "metadata": {},
   "outputs": [],
   "source": [
    "fraud_data = data.loc[data['isFraud'] == 1, :]\n",
    "fraud_feature_data = fraud_data.loc[:, feature_columns].values\n",
    "fraud_target_data = fraud_data.loc[:, target_columns].values \n",
    "\n",
    "non_fraud_data = data.loc[data['isFraud'] == -1, :]\n",
    "non_fraud_feature_data = non_fraud_data.head(100).loc[:, feature_columns].values\n",
    "non_fraud_target_data = non_fraud_data.head(100).loc[:, target_columns].values\n",
    "\n",
    "feature_data = pd.concat((fraud_data.loc[:, feature_columns], non_fraud_data.head(25).loc[:, feature_columns])).values\n",
    "target_data = pd.concat((fraud_data.loc[:, target_columns], non_fraud_data.head(25).loc[:, target_columns])).values"
   ]
  },
  {
   "cell_type": "markdown",
   "id": "ea02c05a-6674-4f25-930a-64ad1da317dc",
   "metadata": {},
   "source": [
    "# Model Learning Rate Tuning"
   ]
  },
  {
   "cell_type": "code",
   "execution_count": null,
   "id": "27ec2b58-a8c0-4446-8d62-ffe8da1a6f5a",
   "metadata": {},
   "outputs": [],
   "source": [
    "input_layer = [len(feature_columns)]\n",
    "hidden_layers = [32, 16, 8, 4, 2]\n",
    "output_layer = [1]\n",
    "\n",
    "initial_lr_power = 20\n",
    "end_lr_power = 24\n",
    "total_iters = 4\n",
    "tuning_epochs = 10\n",
    "\n",
    "model_purpose = 'binary'"
   ]
  },
  {
   "cell_type": "code",
   "execution_count": null,
   "id": "fb8b857d-0136-4b3d-b5c0-02c61715c59d",
   "metadata": {},
   "outputs": [],
   "source": [
    "bnn_lr_tuning = bnn_learning_rate_tuning(input_layer, \n",
    "                                         hidden_layers, \n",
    "                                         output_layer, \n",
    "                                         feature_data, \n",
    "                                         target_data,\n",
    "                                         model_purpose=model_purpose, \n",
    "                                         initial_lr_power=initial_lr_power, \n",
    "                                         end_lr_power=end_lr_power, \n",
    "                                         total_iters=total_iters, \n",
    "                                         tuning_epochs=tuning_epochs)"
   ]
  },
  {
   "cell_type": "code",
   "execution_count": null,
   "id": "b0f23dbe-e561-4dc0-b44d-b486fabe93f2",
   "metadata": {
    "scrolled": true
   },
   "outputs": [],
   "source": [
    "bnn_lr_tuning.perform_learning_rate_tuning()"
   ]
  },
  {
   "cell_type": "code",
   "execution_count": null,
   "id": "d3fe75d8-9bbb-4085-8380-352f20399a04",
   "metadata": {},
   "outputs": [],
   "source": [
    "bnn_lr_tuning.visualize_learning_rate_tuning()"
   ]
  },
  {
   "cell_type": "markdown",
   "id": "0453f35a-e32a-486e-b5ba-83d3176cd9c6",
   "metadata": {
    "jp-MarkdownHeadingCollapsed": true
   },
   "source": [
    "# Model Performance on Predicting Fraud Data (Labeled as 1)"
   ]
  },
  {
   "cell_type": "code",
   "execution_count": null,
   "id": "ceec2640-0e82-4626-8c95-1f50cad38821",
   "metadata": {},
   "outputs": [],
   "source": [
    "input_layer = [len(feature_columns)]\n",
    "hidden_layers = [32, 16, 8, 4, 2]\n",
    "output_layer = [1]\n",
    "\n",
    "total_epochs = 10\n",
    "initial_lr = 1\n",
    "end_lr = 5e-2\n",
    "validation_percentage = 0.1\n",
    "\n",
    "model_purpose = 'binary'\n",
    "learning_rate_decay_type = 'exponential'"
   ]
  },
  {
   "cell_type": "code",
   "execution_count": null,
   "id": "634c3690-e008-4bbb-884f-b3727cbeea43",
   "metadata": {},
   "outputs": [],
   "source": [
    "bnn = bayesian_neural_network(input_layer, \n",
    "                                hidden_layers, \n",
    "                                output_layer, \n",
    "                                feature_data, \n",
    "                                target_data, \n",
    "                                validation_percentage=validation_percentage, \n",
    "                                model_purpose='binary', \n",
    "                                initial_lr=initial_lr, \n",
    "                                end_lr=end_lr,\n",
    "                                learning_rate_decay_type=learning_rate_decay_type,\n",
    "                                total_epochs=total_epochs)"
   ]
  },
  {
   "cell_type": "code",
   "execution_count": null,
   "id": "bc2ca80e-41ce-4eff-9f6d-a61ec13c922f",
   "metadata": {},
   "outputs": [],
   "source": [
    "# model performance before training\n",
    "bnn.bnn_fp.feed_forward_neural_network(bnn.m, bnn.v, bnn.feature_data, bnn.model_structure, model_purpose=bnn.model_purpose)[0]"
   ]
  },
  {
   "cell_type": "code",
   "execution_count": null,
   "id": "29df9742-c8b1-4a09-900d-d87368c219ba",
   "metadata": {
    "scrolled": true
   },
   "outputs": [],
   "source": [
    "bnn.train_model()"
   ]
  },
  {
   "cell_type": "code",
   "execution_count": null,
   "id": "e54d42c2-d55c-4e16-9440-2fe151cc60e2",
   "metadata": {},
   "outputs": [],
   "source": [
    "bnn.visualize_model_performance()"
   ]
  },
  {
   "cell_type": "code",
   "execution_count": null,
   "id": "eca022c4-8800-430a-8081-d3a436b8bffe",
   "metadata": {},
   "outputs": [],
   "source": [
    "# model performance after training\n",
    "bnn.bnn_fp.feed_forward_neural_network(bnn.m, bnn.v, bnn.feature_data, bnn.model_structure, model_purpose=bnn.model_purpose)[0]"
   ]
  },
  {
   "cell_type": "markdown",
   "id": "4bb092e3-45bf-41e4-a159-ebc8e889f932",
   "metadata": {},
   "source": [
    "# Model Performance on Predicting Non-Fraud Data (Labeled With -1)"
   ]
  },
  {
   "cell_type": "code",
   "execution_count": null,
   "id": "aac6f4ab-0893-405f-8466-b9bf1dc58ef1",
   "metadata": {},
   "outputs": [],
   "source": [
    "input_layer = [len(feature_columns)]\n",
    "hidden_layers = [32, 16, 8, 4, 2]\n",
    "output_layer = [1]\n",
    "\n",
    "total_epochs = 25\n",
    "initial_lr = 1\n",
    "end_lr = 1e-2\n",
    "validation_percentage = 0.1\n",
    "\n",
    "model_purpose = 'binary'\n",
    "learning_rate_decay_type = 'exponential'"
   ]
  },
  {
   "cell_type": "code",
   "execution_count": null,
   "id": "113d0f7e-6893-488b-92a8-97d6a33ecead",
   "metadata": {},
   "outputs": [],
   "source": [
    "bnn = bayesian_neural_network(input_layer, \n",
    "                                hidden_layers, \n",
    "                                output_layer, \n",
    "                                feature_data, \n",
    "                                target_data, \n",
    "                                validation_percentage=validation_percentage, \n",
    "                                model_purpose='binary', \n",
    "                                initial_lr=initial_lr, \n",
    "                                end_lr=end_lr,\n",
    "                                learning_rate_decay_type=learning_rate_decay_type,\n",
    "                                total_epochs=total_epochs)"
   ]
  },
  {
   "cell_type": "code",
   "execution_count": null,
   "id": "51f8f890-86c0-414b-8c48-6464a5574b5d",
   "metadata": {},
   "outputs": [],
   "source": [
    "# model performance before training\n",
    "bnn.bnn_fp.feed_forward_neural_network(bnn.m, bnn.v, bnn.feature_data, bnn.model_structure, model_purpose=bnn.model_purpose)[0]"
   ]
  },
  {
   "cell_type": "code",
   "execution_count": null,
   "id": "77409581-c0ca-4e7d-a191-103d2d02fa47",
   "metadata": {
    "scrolled": true
   },
   "outputs": [],
   "source": [
    "bnn.train_model()"
   ]
  },
  {
   "cell_type": "code",
   "execution_count": null,
   "id": "47b1958e-831a-46fb-a9fa-61ae880aee6d",
   "metadata": {},
   "outputs": [],
   "source": [
    "bnn.visualize_model_performance()"
   ]
  },
  {
   "cell_type": "code",
   "execution_count": null,
   "id": "5598fc15-7588-44e4-b7c0-702a396151dc",
   "metadata": {},
   "outputs": [],
   "source": [
    "# model performance after training\n",
    "bnn.bnn_fp.feed_forward_neural_network(bnn.m, bnn.v, bnn.feature_data, bnn.model_structure, model_purpose=bnn.model_purpose)[0]"
   ]
  },
  {
   "cell_type": "markdown",
   "id": "0900282c-1d71-4a9b-837b-7082d55c9299",
   "metadata": {
    "jp-MarkdownHeadingCollapsed": true
   },
   "source": [
    "# Model Performance on Fraud and Non-Fraud Data"
   ]
  },
  {
   "cell_type": "code",
   "execution_count": null,
   "id": "02fde7be-346b-48e0-8c34-719c8acaecdb",
   "metadata": {},
   "outputs": [],
   "source": [
    "input_layer = [len(feature_columns)]\n",
    "hidden_layers = [32, 16, 8, 4, 2]\n",
    "output_layer = [1]\n",
    "\n",
    "total_epochs = 100\n",
    "initial_lr = 1e-4\n",
    "end_lr = 1e-8\n",
    "# validation_percentage = 0.1\n",
    "\n",
    "model_purpose = 'binary'\n",
    "learning_rate_decay_type = 'exponential'"
   ]
  },
  {
   "cell_type": "code",
   "execution_count": null,
   "id": "6631f38f-9d5a-42d3-8276-8daf1fcd4e2d",
   "metadata": {},
   "outputs": [],
   "source": [
    "bnn = bayesian_neural_network(input_layer, \n",
    "                              hidden_layers, \n",
    "                              output_layer, \n",
    "                              feature_data, \n",
    "                              target_data, \n",
    "                              validation_percentage=None,\n",
    "                              model_purpose=model_purpose, \n",
    "                              initial_lr=initial_lr,\n",
    "                              end_lr=end_lr)\n",
    "bnn.standardize_dataset()\n",
    "# bnn.generate_validation_training_dataset()\n",
    "bnn.generate_m()\n",
    "bnn.generate_v()"
   ]
  },
  {
   "cell_type": "code",
   "execution_count": null,
   "id": "b7578704-95b5-459e-854a-d165d0e4781f",
   "metadata": {},
   "outputs": [],
   "source": [
    "# model performance on predicting fraudulent data before training\n",
    "bnn.bnn_fp.feed_forward_neural_network(bnn.m, bnn.v, bnn.feature_data[bnn.target_data == 1], bnn.model_structure, model_purpose=bnn.model_purpose)[0]"
   ]
  },
  {
   "cell_type": "code",
   "execution_count": null,
   "id": "d3634321-7ca0-4adc-8d13-b6a48ff980dc",
   "metadata": {},
   "outputs": [],
   "source": [
    "# model performance on predicting non-fraudulent data before training\n",
    "bnn.bnn_fp.feed_forward_neural_network(bnn.m, bnn.v, bnn.feature_data[bnn.target_data == -1], bnn.model_structure, model_purpose=bnn.model_purpose)[0]"
   ]
  },
  {
   "cell_type": "code",
   "execution_count": null,
   "id": "152463fe-fd9b-47a1-a648-06daa13eafc9",
   "metadata": {
    "scrolled": true
   },
   "outputs": [],
   "source": [
    "bnn.train_model(total_epochs, learning_rate_decay_type)"
   ]
  },
  {
   "cell_type": "code",
   "execution_count": null,
   "id": "2ebd19d3-587e-4512-992f-c0f4405a3337",
   "metadata": {},
   "outputs": [],
   "source": [
    "bnn.visualize_model_performance()"
   ]
  },
  {
   "cell_type": "code",
   "execution_count": null,
   "id": "22f334e4-7745-420a-a373-f99170ca0d40",
   "metadata": {},
   "outputs": [],
   "source": [
    "# model performance on predicting fraudulent data before training\n",
    "bnn.bnn_fp.feed_forward_neural_network(bnn.m, bnn.v, bnn.feature_data[bnn.target_data == 1], bnn.model_structure, model_purpose=bnn.model_purpose)[0]"
   ]
  },
  {
   "cell_type": "code",
   "execution_count": null,
   "id": "312a3d31-e621-4b21-b3b8-184908c738e8",
   "metadata": {},
   "outputs": [],
   "source": [
    "# model performance on predicting non-fraudulent data before training\n",
    "bnn.bnn_fp.feed_forward_neural_network(bnn.m, bnn.v, bnn.feature_data[bnn.target_data == -1], bnn.model_structure, model_purpose=bnn.model_purpose)[0]"
   ]
  },
  {
   "cell_type": "markdown",
   "id": "01607ef1-2195-4200-b9ba-55f20f9c6369",
   "metadata": {
    "jp-MarkdownHeadingCollapsed": true
   },
   "source": [
    "# Model Performance On The Data"
   ]
  },
  {
   "cell_type": "code",
   "execution_count": null,
   "id": "f74b6f03-160c-4d55-bc4f-63eb42c47f43",
   "metadata": {},
   "outputs": [],
   "source": [
    "input_layer = [len(feature_columns)]\n",
    "hidden_layers = [32, 16, 8, 4, 2]\n",
    "output_layer = [1]\n",
    "\n",
    "total_epochs = 100\n",
    "initial_lr = 1e-30\n",
    "end_lr = 1e-32\n",
    "validation_percentage = 0.1\n",
    "\n",
    "error_type = 'accuracy'\n",
    "learning_rate_decay_type = 'exponential'"
   ]
  },
  {
   "cell_type": "code",
   "execution_count": null,
   "id": "cbecf98e-9429-4aab-9566-293df61bb92f",
   "metadata": {},
   "outputs": [],
   "source": [
    "bnn = bayesian_neural_network(input_layer, \n",
    "                              hidden_layers, \n",
    "                              output_layer, \n",
    "                              feature_data, \n",
    "                              target_data, \n",
    "                              validation_percentage=validation_percentage,\n",
    "                              error_type=error_type, \n",
    "                              initial_lr=initial_lr,\n",
    "                              end_lr=end_lr)\n",
    "bnn.standardize_dataset()\n",
    "bnn.generate_validation_training_dataset()\n",
    "bnn.generate_m()\n",
    "bnn.generate_v()"
   ]
  },
  {
   "cell_type": "code",
   "execution_count": null,
   "id": "632fb2b3-87cc-465c-874f-6f505560c086",
   "metadata": {
    "scrolled": true
   },
   "outputs": [],
   "source": [
    "bnn.train_model(total_epochs, learning_rate_decay_type)"
   ]
  },
  {
   "cell_type": "code",
   "execution_count": null,
   "id": "50313476-c05e-4232-a75a-1271dec96ef6",
   "metadata": {},
   "outputs": [],
   "source": [
    "bnn.visualize_model_performance()"
   ]
  },
  {
   "cell_type": "code",
   "execution_count": null,
   "id": "dd25f0a0-38b0-4df4-a484-1555455d34d7",
   "metadata": {},
   "outputs": [],
   "source": []
  }
 ],
 "metadata": {
  "kernelspec": {
   "display_name": "Python 3 (ipykernel)",
   "language": "python",
   "name": "python3"
  },
  "language_info": {
   "codemirror_mode": {
    "name": "ipython",
    "version": 3
   },
   "file_extension": ".py",
   "mimetype": "text/x-python",
   "name": "python",
   "nbconvert_exporter": "python",
   "pygments_lexer": "ipython3",
   "version": "3.11.7"
  }
 },
 "nbformat": 4,
 "nbformat_minor": 5
}
