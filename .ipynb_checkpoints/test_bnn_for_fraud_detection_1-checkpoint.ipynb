{
 "cells": [
  {
   "cell_type": "code",
   "execution_count": null,
   "id": "70856a33-e296-49a1-a0e5-c8f9b8264c61",
   "metadata": {},
   "outputs": [],
   "source": [
    "from Bayesian_Neural_Network import bayesian_neural_network\n",
    "from BNN_Learning_Rate_Tuning import bnn_learning_rate_tuning\n",
    "\n",
    "import numpy as np\n",
    "import pandas as pd\n",
    "import matplotlib.pyplot as plt\n",
    "\n",
    "np.random.seed(10120024)"
   ]
  },
  {
   "cell_type": "markdown",
   "id": "ba2943b2-db2b-44cd-9a2f-88a29b09e4fe",
   "metadata": {},
   "source": [
    "# Data Preparation"
   ]
  },
  {
   "cell_type": "code",
   "execution_count": null,
   "id": "bfc0f76e-3857-4674-ab4e-1328bff7d7b7",
   "metadata": {},
   "outputs": [],
   "source": [
    "df = pd.read_csv('creditcard.csv')"
   ]
  },
  {
   "cell_type": "code",
   "execution_count": null,
   "id": "d3b0366a-8017-403f-930c-bc4a4f3a02d1",
   "metadata": {},
   "outputs": [],
   "source": [
    "# df.head()"
   ]
  },
  {
   "cell_type": "code",
   "execution_count": null,
   "id": "c1f8f490-f267-40cc-9426-2dda3dca6b9d",
   "metadata": {},
   "outputs": [],
   "source": [
    "feature_columns = df.columns[1:-2]\n",
    "target_columns = df.columns[-1]"
   ]
  },
  {
   "cell_type": "markdown",
   "id": "a682ee5d-0cbc-41cf-bca0-f8e92e5c0a86",
   "metadata": {},
   "source": [
    "# Model Performance On 100 Samples of Non-Fraudulent Data"
   ]
  },
  {
   "cell_type": "code",
   "execution_count": null,
   "id": "620238d4-2ad2-4a55-bc74-4bd8ab679a4c",
   "metadata": {},
   "outputs": [],
   "source": [
    "df_0 = df.loc[df['Class'] == 0, :].head(100)"
   ]
  },
  {
   "cell_type": "code",
   "execution_count": null,
   "id": "5c1dc654-c06a-4906-9ea0-bad23cb085d4",
   "metadata": {},
   "outputs": [],
   "source": [
    "feature_data = df_0.loc[:, feature_columns].values.reshape(-1, 28, 1)\n",
    "target_data = df_0.loc[:, target_columns].values"
   ]
  },
  {
   "cell_type": "code",
   "execution_count": null,
   "id": "d4f52471-59d1-4766-8337-69d09dacbc74",
   "metadata": {},
   "outputs": [],
   "source": [
    "input_layer = [28]\n",
    "hidden_layers = [64, 32, 16, 8, 4, 2]\n",
    "output_layer = [1]\n",
    "\n",
    "total_epochs = 100\n",
    "learning_rate = 1e-2\n",
    "\n",
    "error_type = 'accuracy'\n",
    "learning_rate_decay_type = 'exponential'"
   ]
  },
  {
   "cell_type": "code",
   "execution_count": null,
   "id": "9420c69f-4e34-4562-b2ef-af461458baf3",
   "metadata": {},
   "outputs": [],
   "source": [
    "bnn = bayesian_neural_network(input_layer, hidden_layers, output_layer, feature_data, target_data, error_type, learning_rate=learning_rate)\n",
    "bnn.standardize_dataset()\n",
    "bnn.generate_m()\n",
    "bnn.generate_v()"
   ]
  },
  {
   "cell_type": "code",
   "execution_count": null,
   "id": "8e85407e-b57a-4d95-88ac-01f4878aa98b",
   "metadata": {},
   "outputs": [],
   "source": [
    "bnn.bnn_fp.feed_forward_neural_network(bnn.m, bnn.v, bnn.feature_data, bnn.model_structure, 'sigmoid')[0]"
   ]
  },
  {
   "cell_type": "code",
   "execution_count": null,
   "id": "a5b28df7-463d-4c90-9979-4262b7051ad1",
   "metadata": {
    "scrolled": true
   },
   "outputs": [],
   "source": [
    "bnn.train_model(total_epochs)"
   ]
  },
  {
   "cell_type": "code",
   "execution_count": null,
   "id": "5aa6b641-5f51-42db-a9ea-550678ad86ca",
   "metadata": {},
   "outputs": [],
   "source": [
    "bnn.bnn_fp.feed_forward_neural_network(bnn.m, bnn.v, bnn.feature_data, bnn.model_structure, 'sigmoid')[0]"
   ]
  },
  {
   "cell_type": "code",
   "execution_count": null,
   "id": "23049222-3704-4c7d-8053-0f45cf85875a",
   "metadata": {},
   "outputs": [],
   "source": [
    "bnn.visualize_performance()"
   ]
  },
  {
   "cell_type": "markdown",
   "id": "21e80e59-dfe1-40c3-a7d4-911af8773390",
   "metadata": {
    "jp-MarkdownHeadingCollapsed": true
   },
   "source": [
    "# Model Performance On 100 Samples of Fraudulent Data"
   ]
  },
  {
   "cell_type": "code",
   "execution_count": null,
   "id": "a73ef4a1-0ff4-4995-bd74-ea15572439c7",
   "metadata": {},
   "outputs": [],
   "source": [
    "df_1 = df.loc[df['Class'] == 1, :].head(100)"
   ]
  },
  {
   "cell_type": "code",
   "execution_count": null,
   "id": "b4f7f527-d168-4950-955b-5926592b0249",
   "metadata": {},
   "outputs": [],
   "source": [
    "feature_data = df_1.loc[:, feature_columns].values.reshape(-1, 28, 1)\n",
    "target_data = df_1.loc[:, target_columns].values"
   ]
  },
  {
   "cell_type": "code",
   "execution_count": null,
   "id": "51f71008-edae-4cc7-ba83-56884405f5ee",
   "metadata": {},
   "outputs": [],
   "source": [
    "input_layer = [28]\n",
    "hidden_layers = [64, 32, 16, 8, 4, 2]\n",
    "output_layer = [1]\n",
    "\n",
    "total_epochs = 50\n",
    "learning_rate = 1\n",
    "\n",
    "error_type = 'accuracy'\n",
    "learning_rate_decay_type = 'exponential'"
   ]
  },
  {
   "cell_type": "code",
   "execution_count": null,
   "id": "3d76cb31-5e97-4de7-b766-edad34315b6e",
   "metadata": {},
   "outputs": [],
   "source": [
    "bnn = bayesian_neural_network(input_layer, hidden_layers, output_layer, feature_data, target_data, error_type, learning_rate=learning_rate)\n",
    "bnn.standardize_dataset()\n",
    "bnn.generate_m()\n",
    "bnn.generate_v()"
   ]
  },
  {
   "cell_type": "code",
   "execution_count": null,
   "id": "fdcba93e-4c39-4481-af09-c70b3b5cb206",
   "metadata": {},
   "outputs": [],
   "source": [
    "bnn.bnn_fp.feed_forward_neural_network(bnn.m, bnn.v, bnn.feature_data, bnn.model_structure, 'sigmoid')[0]"
   ]
  },
  {
   "cell_type": "code",
   "execution_count": null,
   "id": "14a96111-6df8-4dae-ac2c-dd8189648063",
   "metadata": {
    "scrolled": true
   },
   "outputs": [],
   "source": [
    "bnn.train_model(total_epochs)"
   ]
  },
  {
   "cell_type": "code",
   "execution_count": null,
   "id": "6c433a1c-05e5-4fe6-a0c1-1cad58ac8ff9",
   "metadata": {},
   "outputs": [],
   "source": [
    "bnn.bnn_fp.feed_forward_neural_network(bnn.m, bnn.v, bnn.feature_data, bnn.model_structure, 'sigmoid')[0]"
   ]
  },
  {
   "cell_type": "code",
   "execution_count": null,
   "id": "f3136f68-7c68-4e7f-bbbb-dab67f7ddfbb",
   "metadata": {},
   "outputs": [],
   "source": [
    "bnn.visualize_performance()"
   ]
  },
  {
   "cell_type": "markdown",
   "id": "e8928b1b-17d0-4f60-b2aa-8a416a6757c3",
   "metadata": {
    "jp-MarkdownHeadingCollapsed": true
   },
   "source": [
    "# Model Performance On 50 Samples of Non-Fraudulent Data and 25 Samples of Fraudulent Data"
   ]
  },
  {
   "cell_type": "code",
   "execution_count": null,
   "id": "12a1607a-da19-438c-873f-3a8ea1f2e299",
   "metadata": {},
   "outputs": [],
   "source": [
    "df_0 = df.loc[df['Class'] == 0, :].head(50)\n",
    "df_1 = df.loc[df['Class'] == 1, :].head(50)\n",
    "df_0_1 = pd.concat([df_0, df_1]).sample(frac=1)"
   ]
  },
  {
   "cell_type": "code",
   "execution_count": null,
   "id": "5619942c-b289-41a3-be9f-f32028ee6926",
   "metadata": {},
   "outputs": [],
   "source": [
    "df_0_1.head()"
   ]
  },
  {
   "cell_type": "code",
   "execution_count": null,
   "id": "96209470-229f-4ccd-a010-6cef6e9c5cf5",
   "metadata": {},
   "outputs": [],
   "source": [
    "feature_data = df_0_1.loc[:, feature_columns].values.reshape(-1, 28, 1)\n",
    "target_data = df_0_1.loc[:, target_columns].values"
   ]
  },
  {
   "cell_type": "code",
   "execution_count": null,
   "id": "a6e9bd23-3dc9-4aa4-bb2e-7123682513a8",
   "metadata": {},
   "outputs": [],
   "source": [
    "input_layer = [28]\n",
    "hidden_layers = [128, 64, 64, 32, 32, 16, 8]\n",
    "output_layer = [1]\n",
    "\n",
    "total_epochs = 500\n",
    "learning_rate = 1\n",
    "\n",
    "error_type = 'accuracy'\n",
    "learning_rate_decay_type = 'exponential'"
   ]
  },
  {
   "cell_type": "code",
   "execution_count": null,
   "id": "80f35831-1a68-44f7-9037-5f2cd4bc098a",
   "metadata": {},
   "outputs": [],
   "source": [
    "bnn = bayesian_neural_network(input_layer, hidden_layers, output_layer, feature_data, target_data, error_type, learning_rate=learning_rate)\n",
    "bnn.standardize_dataset()\n",
    "bnn.generate_m()\n",
    "bnn.generate_v()"
   ]
  },
  {
   "cell_type": "code",
   "execution_count": null,
   "id": "c07f7d90-1c33-455c-821f-bfbef2f54bde",
   "metadata": {},
   "outputs": [],
   "source": [
    "bnn.bnn_fp.feed_forward_neural_network(bnn.m, bnn.v, bnn.feature_data, bnn.model_structure, 'sigmoid')[0]"
   ]
  },
  {
   "cell_type": "code",
   "execution_count": null,
   "id": "f0b6fa85-1069-46a7-bfd4-fcbdc430de18",
   "metadata": {
    "scrolled": true
   },
   "outputs": [],
   "source": [
    "bnn.train_model(total_epochs)"
   ]
  },
  {
   "cell_type": "code",
   "execution_count": null,
   "id": "0fe227e1-cf4c-43d5-b221-74c47afbb0e6",
   "metadata": {},
   "outputs": [],
   "source": [
    "bnn.visualize_performance()"
   ]
  },
  {
   "cell_type": "code",
   "execution_count": null,
   "id": "0847e115-64d0-40d7-bf98-3c87b78327f9",
   "metadata": {},
   "outputs": [],
   "source": []
  }
 ],
 "metadata": {
  "kernelspec": {
   "display_name": "Python 3 (ipykernel)",
   "language": "python",
   "name": "python3"
  },
  "language_info": {
   "codemirror_mode": {
    "name": "ipython",
    "version": 3
   },
   "file_extension": ".py",
   "mimetype": "text/x-python",
   "name": "python",
   "nbconvert_exporter": "python",
   "pygments_lexer": "ipython3",
   "version": "3.11.7"
  }
 },
 "nbformat": 4,
 "nbformat_minor": 5
}
