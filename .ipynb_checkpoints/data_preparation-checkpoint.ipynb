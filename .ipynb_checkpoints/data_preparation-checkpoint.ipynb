{
 "cells": [
  {
   "cell_type": "code",
   "execution_count": null,
   "id": "9ca61f72-e84a-4e55-9fc0-ccd6851fa179",
   "metadata": {},
   "outputs": [],
   "source": [
    "from warnings import simplefilter\n",
    "simplefilter('ignore')\n",
    "\n",
    "import sklearn \n",
    "import numpy as np\n",
    "import pandas as pd\n",
    "import seaborn as sns\n",
    "import matplotlib.pyplot as plt\n",
    "from scipy.special import rel_entr\n",
    "from sklearn.neighbors import KernelDensity\n",
    "from imblearn.under_sampling import NearMiss, RandomUnderSampler\n",
    "\n",
    "np.random.seed(10120024)"
   ]
  },
  {
   "cell_type": "markdown",
   "id": "e2de71bf-4915-470b-aacf-f9f6176b4bf3",
   "metadata": {},
   "source": [
    "# Basic Info"
   ]
  },
  {
   "cell_type": "code",
   "execution_count": null,
   "id": "d2f5749b-34a9-4e79-a8ea-f4399a6e1525",
   "metadata": {},
   "outputs": [],
   "source": [
    "data = pd.read_csv('../creditcard.csv')"
   ]
  },
  {
   "cell_type": "code",
   "execution_count": null,
   "id": "d24393d7-f913-46d3-8e22-a6f13e215f15",
   "metadata": {},
   "outputs": [],
   "source": [
    "feature_columns = ['V17', 'V12', 'V14', 'V10', 'V11', 'V16']\n",
    "target_column = data.columns[-1]\n",
    "\n",
    "feature_data = data.loc[:, feature_columns]\n",
    "target_data = data.loc[:, target_column]\n",
    "\n",
    "target_data[target_data == 0] = -1"
   ]
  },
  {
   "cell_type": "markdown",
   "id": "ca23b5cb-1aee-4c18-bb99-030d0613e1af",
   "metadata": {},
   "source": [
    "# Visualize KL Divergence"
   ]
  },
  {
   "cell_type": "code",
   "execution_count": null,
   "id": "cbd41534-e4e2-44f6-9d92-6aae04f910e1",
   "metadata": {},
   "outputs": [],
   "source": [
    "kl = []\n",
    "\n",
    "for feature in data.columns[1:-1]:\n",
    "    # select fraud and non-fraud data\n",
    "    fraud_data = data.loc[(target_data.values == 1).reshape(-1, 1).T[0], feature]\n",
    "    non_fraud_data = data.loc[(target_data.values == -1).reshape(-1, 1).T[0], feature]\n",
    "\n",
    "    # create kde instance for fraud and non-fraud data\n",
    "    kde_fraud = KernelDensity(kernel='gaussian', bandwidth=0.5).fit(fraud_data.values.reshape(-1, 1))\n",
    "    kde_non_fraud = KernelDensity(kernel='gaussian', bandwidth=0.5).fit(non_fraud_data.values.reshape(-1, 1))\n",
    "\n",
    "    # create a set of numbers\n",
    "    X = np.linspace(data[feature].min(), data[feature].max(), 100).reshape(-1, 1)\n",
    "\n",
    "    # calculate the score\n",
    "    sample_fraud = np.exp(kde_fraud.score_samples(X)) \n",
    "    sample_non_fraud = np.exp(kde_non_fraud.score_samples(X))\n",
    "    sample_fraud /= np.sum(sample_fraud)\n",
    "    sample_non_fraud /= np.sum(sample_non_fraud)\n",
    "\n",
    "    # calculate the kl-divergence\n",
    "    kl.append(sum(rel_entr(sample_fraud, sample_non_fraud)))"
   ]
  },
  {
   "cell_type": "code",
   "execution_count": null,
   "id": "203b6011-8a6f-493e-be99-16357b209c0b",
   "metadata": {},
   "outputs": [],
   "source": [
    "kl_data = pd.DataFrame({'Fitur Data':data.columns[1:-1], \n",
    "                 'Divergensi KL':kl}).sort_values('Divergensi KL', ascending=False)\n",
    "\n",
    "fig = plt.figure()\n",
    "fig.set_size_inches(8, 4)\n",
    "\n",
    "sns.barplot(data=kl_data, \n",
    "               x='Fitur Data',\n",
    "               y='Divergensi KL',\n",
    "               palette=['#0a75ad' if val >= 4 else '#c0d6e4' for val in kl_data['Divergensi KL'].values])\n",
    "\n",
    "plt.xticks(rotation=-45)\n",
    "\n",
    "plt.savefig('kl_divergence_vis.png')\n",
    "plt.show()"
   ]
  },
  {
   "cell_type": "markdown",
   "id": "18a360c8-7249-45a8-8987-efb814462ffd",
   "metadata": {},
   "source": [
    "# Visualize Probability Density"
   ]
  },
  {
   "cell_type": "code",
   "execution_count": null,
   "id": "ccbf66a7-4cdb-42eb-8e2c-469021693c84",
   "metadata": {},
   "outputs": [],
   "source": [
    "fig, ax = plt.subplots(5, 6, figsize=(30, 10))\n",
    "\n",
    "for i, feature in enumerate(kl_data['Fitur Data'].values):\n",
    "    plt.subplot(5, 6, i+1)\n",
    "    \n",
    "    sns.kdeplot(data.loc[(target_data.values == 1).reshape(-1, 1).T[0], feature], bw=0.5,label=\"Class = 1\")\n",
    "    sns.kdeplot(data.loc[(target_data.values == -1).reshape(-1, 1).T[0], feature], bw=0.5,label=\"Class = -1\")\n",
    "    \n",
    "    plt.xlabel(feature, fontsize=12)\n",
    "    \n",
    "    plt.tick_params(axis='both', which='major', labelsize=12)\n",
    "\n",
    "fig.legend(['Fraud', 'Tidak Fraud'])\n",
    "plt.savefig('probability_density_vis.png')\n",
    "plt.show()"
   ]
  },
  {
   "cell_type": "markdown",
   "id": "02fcfe70-e0fc-40a4-bafa-64eef091c813",
   "metadata": {},
   "source": [
    "# Undersampling The Data"
   ]
  },
  {
   "cell_type": "code",
   "execution_count": null,
   "id": "9b0adaa2-f6e0-41ed-bb98-783d8a8ea8a8",
   "metadata": {},
   "outputs": [],
   "source": [
    "undersample = NearMiss(version=3, n_neighbors=10)\n",
    "\n",
    "feature_sample, target_sample = undersample.fit_resample(feature_data, target_data)\n",
    "undersampled_data = pd.concat((feature_sample, target_sample), axis=1)"
   ]
  },
  {
   "cell_type": "markdown",
   "id": "97f466a4-037d-4a98-897a-791666acd4df",
   "metadata": {},
   "source": [
    "# Train-Test Split"
   ]
  },
  {
   "cell_type": "code",
   "execution_count": null,
   "id": "fe7293f1-c941-45e2-b318-4b63a3cf10c0",
   "metadata": {},
   "outputs": [],
   "source": [
    "test_size = 25\n",
    "undersampled_data_train = pd.concat([\n",
    "                                    undersampled_data.loc[undersampled_data['Class'] == 1].head(len(undersampled_data.loc[undersampled_data['Class'] == 1]) - test_size),\n",
    "                                    undersampled_data.loc[undersampled_data['Class'] == -1].head(len(undersampled_data.loc[undersampled_data['Class'] == -1]) - test_size)\n",
    "                                    ], axis=0)\n",
    "undersampled_data_test = pd.concat([\n",
    "                                    undersampled_data.loc[undersampled_data['Class'] == 1].tail(test_size),\n",
    "                                    undersampled_data.loc[undersampled_data['Class'] == -1].tail(test_size)\n",
    "                                    ], axis=0)"
   ]
  },
  {
   "cell_type": "markdown",
   "id": "426c160b-a7e2-4fc3-92a4-1e64e83f1a67",
   "metadata": {},
   "source": [
    "# Saves All Data"
   ]
  },
  {
   "cell_type": "code",
   "execution_count": null,
   "id": "a14b6d6f-5e56-42c2-9ac8-922cfc381e24",
   "metadata": {},
   "outputs": [],
   "source": [
    "pd.concat((feature_data, target_data), axis=1).to_csv('processed_data.csv', index=False)\n",
    "undersampled_data.to_csv('undersampled_data.csv', index=False)\n",
    "undersampled_data_train.to_csv('undersampled_data_train.csv', index=False)\n",
    "undersampled_data_test.to_csv('undersampled_data_test.csv', index=False)"
   ]
  }
 ],
 "metadata": {
  "kernelspec": {
   "display_name": "Python 3 (ipykernel)",
   "language": "python",
   "name": "python3"
  },
  "language_info": {
   "codemirror_mode": {
    "name": "ipython",
    "version": 3
   },
   "file_extension": ".py",
   "mimetype": "text/x-python",
   "name": "python",
   "nbconvert_exporter": "python",
   "pygments_lexer": "ipython3",
   "version": "3.11.7"
  }
 },
 "nbformat": 4,
 "nbformat_minor": 5
}
