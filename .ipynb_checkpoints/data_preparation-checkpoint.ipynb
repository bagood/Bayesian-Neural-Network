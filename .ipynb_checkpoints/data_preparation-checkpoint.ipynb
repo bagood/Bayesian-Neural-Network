{
 "cells": [
  {
   "cell_type": "code",
   "execution_count": 1,
   "id": "9ca61f72-e84a-4e55-9fc0-ccd6851fa179",
   "metadata": {},
   "outputs": [],
   "source": [
    "from warnings import simplefilter\n",
    "simplefilter('ignore')\n",
    "\n",
    "import sklearn \n",
    "import numpy as np\n",
    "import pandas as pd\n",
    "import seaborn as sns\n",
    "import matplotlib.pyplot as plt\n",
    "from scipy.special import rel_entr\n",
    "from sklearn.neighbors import KernelDensity\n",
    "from imblearn.under_sampling import NearMiss, RandomUnderSampler\n",
    "\n",
    "np.random.seed(10120024)"
   ]
  },
  {
   "cell_type": "markdown",
   "id": "e2de71bf-4915-470b-aacf-f9f6176b4bf3",
   "metadata": {},
   "source": [
    "# Basic Info"
   ]
  },
  {
   "cell_type": "code",
   "execution_count": 2,
   "id": "d2f5749b-34a9-4e79-a8ea-f4399a6e1525",
   "metadata": {},
   "outputs": [],
   "source": [
    "data = pd.read_csv('../creditcard.csv')"
   ]
  },
  {
   "cell_type": "code",
   "execution_count": 3,
   "id": "cfab39a2-c698-47b7-a94e-2e17d788cb0c",
   "metadata": {},
   "outputs": [
    {
     "data": {
      "text/plain": [
       "Class\n",
       "0    284315\n",
       "1       492\n",
       "Name: count, dtype: int64"
      ]
     },
     "execution_count": 3,
     "metadata": {},
     "output_type": "execute_result"
    }
   ],
   "source": [
    "data['Class'].value_counts()"
   ]
  },
  {
   "cell_type": "code",
   "execution_count": 4,
   "id": "d24393d7-f913-46d3-8e22-a6f13e215f15",
   "metadata": {},
   "outputs": [],
   "source": [
    "feature_columns = ['V17', 'V12', 'V14', 'V10', 'V11', 'V16']\n",
    "target_column = data.columns[-1]\n",
    "\n",
    "feature_data = data.loc[:, feature_columns].values\n",
    "target_data = data.loc[:, target_column].values\n",
    "\n",
    "target_data[target_data == 0] = -1"
   ]
  },
  {
   "cell_type": "markdown",
   "id": "0b7fb510-6d93-4a17-a2f8-80014d77e6da",
   "metadata": {},
   "source": [
    "# Visualize Probability Density"
   ]
  },
  {
   "cell_type": "code",
   "execution_count": 5,
   "id": "8c66bf02-69e8-4924-b98a-7cbded3bebc0",
   "metadata": {
    "scrolled": true
   },
   "outputs": [],
   "source": [
    "# fig, ax = plt.subplots(8, 4, figsize=(30, 30))\n",
    "\n",
    "# for i, feature in enumerate(data.columns[:-1]):\n",
    "#     plt.subplot(8, 4, i+1)\n",
    "    \n",
    "#     sns.kdeplot(data.loc[(target_data.values == 1).reshape(-1, 1).T[0], feature], bw=0.5,label=\"Class = 1\")\n",
    "#     sns.kdeplot(data.loc[(target_data.values == -1).reshape(-1, 1).T[0], feature], bw=0.5,label=\"Class = -1\")\n",
    "    \n",
    "#     plt.xlabel(feature, fontsize=12)\n",
    "    \n",
    "#     plt.tick_params(axis='both', which='major', labelsize=12)\n",
    "#     plt.legend(['Fraud', 'Non-Fraud'])\n",
    "\n",
    "# plt.savefig('probability_density_vis.png')\n",
    "# plt.show()"
   ]
  },
  {
   "cell_type": "markdown",
   "id": "ca23b5cb-1aee-4c18-bb99-030d0613e1af",
   "metadata": {},
   "source": [
    "# Visualize KL Divergence"
   ]
  },
  {
   "cell_type": "code",
   "execution_count": 6,
   "id": "cbd41534-e4e2-44f6-9d92-6aae04f910e1",
   "metadata": {},
   "outputs": [],
   "source": [
    "# kl = []\n",
    "\n",
    "# for feature in data.columns[1:-1]:\n",
    "#     # select fraud and non-fraud data\n",
    "#     fraud_data = data.loc[(target_data.values == 1).reshape(-1, 1).T[0], feature]\n",
    "#     non_fraud_data = data.loc[(target_data.values == -1).reshape(-1, 1).T[0], feature]\n",
    "\n",
    "#     # create kde instance for fraud and non-fraud data\n",
    "#     kde_fraud = KernelDensity(kernel='gaussian', bandwidth=0.5).fit(fraud_data.values.reshape(-1, 1))\n",
    "#     kde_non_fraud = KernelDensity(kernel='gaussian', bandwidth=0.5).fit(non_fraud_data.values.reshape(-1, 1))\n",
    "\n",
    "#     # create a set of numbers\n",
    "#     X = np.linspace(data[feature].min(), data[feature].max(), 100).reshape(-1, 1)\n",
    "\n",
    "#     # calculate the score\n",
    "#     sample_fraud = np.exp(kde_fraud.score_samples(X)) \n",
    "#     sample_non_fraud = np.exp(kde_non_fraud.score_samples(X))\n",
    "#     sample_fraud /= np.sum(sample_fraud)\n",
    "#     sample_non_fraud /= np.sum(sample_non_fraud)\n",
    "\n",
    "#     # calculate the kl-divergence\n",
    "#     kl.append(sum(rel_entr(sample_fraud, sample_non_fraud)))"
   ]
  },
  {
   "cell_type": "code",
   "execution_count": 7,
   "id": "203b6011-8a6f-493e-be99-16357b209c0b",
   "metadata": {},
   "outputs": [],
   "source": [
    "# kl_data = pd.DataFrame({'Columns':data.columns[1:-1], \n",
    "#                  'KL':kl}).sort_values('KL', ascending=False)\n",
    "\n",
    "# fig = plt.figure()\n",
    "# fig.set_size_inches(10, 5)\n",
    "\n",
    "# sns.barplot(data=kl_data, \n",
    "#                x='Columns',\n",
    "#                y='KL',\n",
    "#                palette=['green' if val >= 4 else 'blue' for val in kl_data['KL'].values])\n",
    "\n",
    "# plt.xticks(rotation=-45)\n",
    "\n",
    "# plt.savefig('kl_div_vis.png')\n",
    "# plt.show()"
   ]
  },
  {
   "cell_type": "markdown",
   "id": "02fcfe70-e0fc-40a4-bafa-64eef091c813",
   "metadata": {
    "jp-MarkdownHeadingCollapsed": true
   },
   "source": [
    "# Undersampling The Data"
   ]
  },
  {
   "cell_type": "code",
   "execution_count": 8,
   "id": "9b0adaa2-f6e0-41ed-bb98-783d8a8ea8a8",
   "metadata": {},
   "outputs": [
    {
     "ename": "TypeError",
     "evalue": "cannot concatenate object of type '<class 'numpy.ndarray'>'; only Series and DataFrame objs are valid",
     "output_type": "error",
     "traceback": [
      "\u001b[0;31m---------------------------------------------------------------------------\u001b[0m",
      "\u001b[0;31mTypeError\u001b[0m                                 Traceback (most recent call last)",
      "Cell \u001b[0;32mIn[8], line 4\u001b[0m\n\u001b[1;32m      1\u001b[0m undersample \u001b[38;5;241m=\u001b[39m NearMiss(version\u001b[38;5;241m=\u001b[39m\u001b[38;5;241m3\u001b[39m, n_neighbors\u001b[38;5;241m=\u001b[39m\u001b[38;5;241m10\u001b[39m)\n\u001b[1;32m      3\u001b[0m feature_sample, target_sample \u001b[38;5;241m=\u001b[39m undersample\u001b[38;5;241m.\u001b[39mfit_resample(feature_data, target_data)\n\u001b[0;32m----> 4\u001b[0m undersampled_data \u001b[38;5;241m=\u001b[39m \u001b[43mpd\u001b[49m\u001b[38;5;241;43m.\u001b[39;49m\u001b[43mconcat\u001b[49m\u001b[43m(\u001b[49m\u001b[43m(\u001b[49m\u001b[43mfeature_sample\u001b[49m\u001b[43m,\u001b[49m\u001b[43m \u001b[49m\u001b[43mtarget_sample\u001b[49m\u001b[43m)\u001b[49m\u001b[43m,\u001b[49m\u001b[43m \u001b[49m\u001b[43maxis\u001b[49m\u001b[38;5;241;43m=\u001b[39;49m\u001b[38;5;241;43m1\u001b[39;49m\u001b[43m)\u001b[49m\n",
      "File \u001b[0;32m/Library/Frameworks/Python.framework/Versions/3.11/lib/python3.11/site-packages/pandas/core/reshape/concat.py:380\u001b[0m, in \u001b[0;36mconcat\u001b[0;34m(objs, axis, join, ignore_index, keys, levels, names, verify_integrity, sort, copy)\u001b[0m\n\u001b[1;32m    377\u001b[0m \u001b[38;5;28;01melif\u001b[39;00m copy \u001b[38;5;129;01mand\u001b[39;00m using_copy_on_write():\n\u001b[1;32m    378\u001b[0m     copy \u001b[38;5;241m=\u001b[39m \u001b[38;5;28;01mFalse\u001b[39;00m\n\u001b[0;32m--> 380\u001b[0m op \u001b[38;5;241m=\u001b[39m \u001b[43m_Concatenator\u001b[49m\u001b[43m(\u001b[49m\n\u001b[1;32m    381\u001b[0m \u001b[43m    \u001b[49m\u001b[43mobjs\u001b[49m\u001b[43m,\u001b[49m\n\u001b[1;32m    382\u001b[0m \u001b[43m    \u001b[49m\u001b[43maxis\u001b[49m\u001b[38;5;241;43m=\u001b[39;49m\u001b[43maxis\u001b[49m\u001b[43m,\u001b[49m\n\u001b[1;32m    383\u001b[0m \u001b[43m    \u001b[49m\u001b[43mignore_index\u001b[49m\u001b[38;5;241;43m=\u001b[39;49m\u001b[43mignore_index\u001b[49m\u001b[43m,\u001b[49m\n\u001b[1;32m    384\u001b[0m \u001b[43m    \u001b[49m\u001b[43mjoin\u001b[49m\u001b[38;5;241;43m=\u001b[39;49m\u001b[43mjoin\u001b[49m\u001b[43m,\u001b[49m\n\u001b[1;32m    385\u001b[0m \u001b[43m    \u001b[49m\u001b[43mkeys\u001b[49m\u001b[38;5;241;43m=\u001b[39;49m\u001b[43mkeys\u001b[49m\u001b[43m,\u001b[49m\n\u001b[1;32m    386\u001b[0m \u001b[43m    \u001b[49m\u001b[43mlevels\u001b[49m\u001b[38;5;241;43m=\u001b[39;49m\u001b[43mlevels\u001b[49m\u001b[43m,\u001b[49m\n\u001b[1;32m    387\u001b[0m \u001b[43m    \u001b[49m\u001b[43mnames\u001b[49m\u001b[38;5;241;43m=\u001b[39;49m\u001b[43mnames\u001b[49m\u001b[43m,\u001b[49m\n\u001b[1;32m    388\u001b[0m \u001b[43m    \u001b[49m\u001b[43mverify_integrity\u001b[49m\u001b[38;5;241;43m=\u001b[39;49m\u001b[43mverify_integrity\u001b[49m\u001b[43m,\u001b[49m\n\u001b[1;32m    389\u001b[0m \u001b[43m    \u001b[49m\u001b[43mcopy\u001b[49m\u001b[38;5;241;43m=\u001b[39;49m\u001b[43mcopy\u001b[49m\u001b[43m,\u001b[49m\n\u001b[1;32m    390\u001b[0m \u001b[43m    \u001b[49m\u001b[43msort\u001b[49m\u001b[38;5;241;43m=\u001b[39;49m\u001b[43msort\u001b[49m\u001b[43m,\u001b[49m\n\u001b[1;32m    391\u001b[0m \u001b[43m\u001b[49m\u001b[43m)\u001b[49m\n\u001b[1;32m    393\u001b[0m \u001b[38;5;28;01mreturn\u001b[39;00m op\u001b[38;5;241m.\u001b[39mget_result()\n",
      "File \u001b[0;32m/Library/Frameworks/Python.framework/Versions/3.11/lib/python3.11/site-packages/pandas/core/reshape/concat.py:446\u001b[0m, in \u001b[0;36m_Concatenator.__init__\u001b[0;34m(self, objs, axis, join, keys, levels, names, ignore_index, verify_integrity, copy, sort)\u001b[0m\n\u001b[1;32m    443\u001b[0m objs, keys \u001b[38;5;241m=\u001b[39m \u001b[38;5;28mself\u001b[39m\u001b[38;5;241m.\u001b[39m_clean_keys_and_objs(objs, keys)\n\u001b[1;32m    445\u001b[0m \u001b[38;5;66;03m# figure out what our result ndim is going to be\u001b[39;00m\n\u001b[0;32m--> 446\u001b[0m ndims \u001b[38;5;241m=\u001b[39m \u001b[38;5;28;43mself\u001b[39;49m\u001b[38;5;241;43m.\u001b[39;49m\u001b[43m_get_ndims\u001b[49m\u001b[43m(\u001b[49m\u001b[43mobjs\u001b[49m\u001b[43m)\u001b[49m\n\u001b[1;32m    447\u001b[0m sample, objs \u001b[38;5;241m=\u001b[39m \u001b[38;5;28mself\u001b[39m\u001b[38;5;241m.\u001b[39m_get_sample_object(objs, ndims, keys, names, levels)\n\u001b[1;32m    449\u001b[0m \u001b[38;5;66;03m# Standardize axis parameter to int\u001b[39;00m\n",
      "File \u001b[0;32m/Library/Frameworks/Python.framework/Versions/3.11/lib/python3.11/site-packages/pandas/core/reshape/concat.py:487\u001b[0m, in \u001b[0;36m_Concatenator._get_ndims\u001b[0;34m(self, objs)\u001b[0m\n\u001b[1;32m    482\u001b[0m     \u001b[38;5;28;01mif\u001b[39;00m \u001b[38;5;129;01mnot\u001b[39;00m \u001b[38;5;28misinstance\u001b[39m(obj, (ABCSeries, ABCDataFrame)):\n\u001b[1;32m    483\u001b[0m         msg \u001b[38;5;241m=\u001b[39m (\n\u001b[1;32m    484\u001b[0m             \u001b[38;5;124mf\u001b[39m\u001b[38;5;124m\"\u001b[39m\u001b[38;5;124mcannot concatenate object of type \u001b[39m\u001b[38;5;124m'\u001b[39m\u001b[38;5;132;01m{\u001b[39;00m\u001b[38;5;28mtype\u001b[39m(obj)\u001b[38;5;132;01m}\u001b[39;00m\u001b[38;5;124m'\u001b[39m\u001b[38;5;124m; \u001b[39m\u001b[38;5;124m\"\u001b[39m\n\u001b[1;32m    485\u001b[0m             \u001b[38;5;124m\"\u001b[39m\u001b[38;5;124monly Series and DataFrame objs are valid\u001b[39m\u001b[38;5;124m\"\u001b[39m\n\u001b[1;32m    486\u001b[0m         )\n\u001b[0;32m--> 487\u001b[0m         \u001b[38;5;28;01mraise\u001b[39;00m \u001b[38;5;167;01mTypeError\u001b[39;00m(msg)\n\u001b[1;32m    489\u001b[0m     ndims\u001b[38;5;241m.\u001b[39madd(obj\u001b[38;5;241m.\u001b[39mndim)\n\u001b[1;32m    490\u001b[0m \u001b[38;5;28;01mreturn\u001b[39;00m ndims\n",
      "\u001b[0;31mTypeError\u001b[0m: cannot concatenate object of type '<class 'numpy.ndarray'>'; only Series and DataFrame objs are valid"
     ]
    }
   ],
   "source": [
    "undersample = NearMiss(version=3, n_neighbors=10)\n",
    "\n",
    "feature_sample, target_sample = undersample.fit_resample(feature_data, target_data)\n",
    "undersampled_data = pd.concat((feature_sample, target_sample), axis=1)"
   ]
  },
  {
   "cell_type": "markdown",
   "id": "3c19fb69-bb8b-45e2-b3df-0fbb289a2b05",
   "metadata": {
    "jp-MarkdownHeadingCollapsed": true
   },
   "source": [
    "# Select Non-Undersampled Data"
   ]
  },
  {
   "cell_type": "code",
   "execution_count": null,
   "id": "6ce08406-4adf-4daf-bfbb-cf190eebce9f",
   "metadata": {},
   "outputs": [],
   "source": [
    "undersampled_indexes = feature_sample.apply(lambda row: np.where(feature_data.values == row.values)[0][0], axis=1).values\n",
    "\n",
    "non_undersampled_data = feature_data.drop(index=undersampled_indexes)\n",
    "non_undersampled_data['Class'] = -1"
   ]
  },
  {
   "cell_type": "markdown",
   "id": "6bed312a-885f-464d-94f2-63ea2a5b025c",
   "metadata": {},
   "source": [
    "# Visualize Distributions Before and After Undersampling"
   ]
  },
  {
   "cell_type": "code",
   "execution_count": null,
   "id": "f0f79aa5-eac8-4921-81ec-45a23e44a7c2",
   "metadata": {},
   "outputs": [],
   "source": [
    "# undersampled_data['Type'] = 'Undersampled'\n",
    "# non_undersampled_data['Type'] = 'Non-Undersampled'\n",
    "\n",
    "# combined = pd.concat([\n",
    "#                         undersampled_data,\n",
    "#                         non_undersampled_data\n",
    "#                     ], axis=0)\n",
    "\n",
    "# combined['Type'] = combined.apply(lambda row: 'Non-Undersampled Non-Fraud' if row['Type'] == 'Non-Undersampled' else 'Undersampled Fraud' if row['Class'] == 1 else 'Undersampled Non-Fraud', axis=1)"
   ]
  },
  {
   "cell_type": "code",
   "execution_count": null,
   "id": "11e4172c-76fe-4260-acb0-68e76cb63481",
   "metadata": {},
   "outputs": [],
   "source": [
    "# fig, ax = plt.subplots(2, 3, figsize=(30, 30))\n",
    "\n",
    "# for i, feature in enumerate(combined.columns[:-2]):\n",
    "#     plt.subplot(2, 3, i+1)\n",
    "    \n",
    "#     sns.boxplot(data=combined, x='Type', y=feature, order=['Non-Undersampled Non-Fraud', 'Undersampled Non-Fraud', 'Undersampled Fraud'])\n",
    "#     plt.xlabel(feature, fontsize=12)\n",
    "    \n",
    "#     plt.xticks(rotation = 25)\n",
    "#     plt.legend(['Fraud', 'Non-Fraud'])\n",
    "    \n",
    "# plt.savefig('distribution_before_after_vis.png')\n",
    "# plt.show()"
   ]
  },
  {
   "cell_type": "markdown",
   "id": "97f466a4-037d-4a98-897a-791666acd4df",
   "metadata": {
    "jp-MarkdownHeadingCollapsed": true
   },
   "source": [
    "# Train-Test Split"
   ]
  },
  {
   "cell_type": "code",
   "execution_count": null,
   "id": "fe7293f1-c941-45e2-b318-4b63a3cf10c0",
   "metadata": {},
   "outputs": [],
   "source": [
    "test_size = 25\n",
    "undersampled_data_train = pd.concat([\n",
    "                                    undersampled_data.loc[undersampled_data['Class'] == 1].head(len(undersampled_data.loc[undersampled_data['Class'] == 1]) - test_size),\n",
    "                                    undersampled_data.loc[undersampled_data['Class'] == -1].head(len(undersampled_data.loc[undersampled_data['Class'] == -1]) - test_size)\n",
    "                                    ], axis=0)\n",
    "undersampled_data_test = pd.concat([\n",
    "                                    undersampled_data.loc[undersampled_data['Class'] == 1].tail(test_size),\n",
    "                                    undersampled_data.loc[undersampled_data['Class'] == -1].tail(test_size)\n",
    "                                    ], axis=0)"
   ]
  },
  {
   "cell_type": "markdown",
   "id": "426c160b-a7e2-4fc3-92a4-1e64e83f1a67",
   "metadata": {},
   "source": [
    "# Saves All Data"
   ]
  },
  {
   "cell_type": "code",
   "execution_count": null,
   "id": "a14b6d6f-5e56-42c2-9ac8-922cfc381e24",
   "metadata": {},
   "outputs": [],
   "source": [
    "pd.concat((feature_data, target_data), axis=1).to_csv('processed_data.csv', index=False)\n",
    "undersampled_data.to_csv('undersampled_data.csv', index=False)\n",
    "undersampled_data_train.to_csv('undersampled_data_train.csv', index=False)\n",
    "undersampled_data_test.to_csv('undersampled_data_test.csv', index=False)\n",
    "non_undersampled_data.to_csv('non_undersampled_data.csv', index=False)"
   ]
  }
 ],
 "metadata": {
  "kernelspec": {
   "display_name": "Python 3 (ipykernel)",
   "language": "python",
   "name": "python3"
  },
  "language_info": {
   "codemirror_mode": {
    "name": "ipython",
    "version": 3
   },
   "file_extension": ".py",
   "mimetype": "text/x-python",
   "name": "python",
   "nbconvert_exporter": "python",
   "pygments_lexer": "ipython3",
   "version": "3.11.7"
  }
 },
 "nbformat": 4,
 "nbformat_minor": 5
}
