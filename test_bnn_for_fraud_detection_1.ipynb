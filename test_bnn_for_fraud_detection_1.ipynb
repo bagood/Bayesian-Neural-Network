{
 "cells": [
  {
   "cell_type": "code",
   "execution_count": null,
   "id": "70856a33-e296-49a1-a0e5-c8f9b8264c61",
   "metadata": {},
   "outputs": [],
   "source": [
    "from Bayesian_Neural_Network import bayesian_neural_network\n",
    "from BNN_Learning_Rate_Tuning import bnn_learning_rate_tuning\n",
    "\n",
    "import numpy as np\n",
    "import pandas as pd\n",
    "import matplotlib.pyplot as plt\n",
    "\n",
    "np.random.seed(10120024)"
   ]
  },
  {
   "cell_type": "markdown",
   "id": "ba2943b2-db2b-44cd-9a2f-88a29b09e4fe",
   "metadata": {},
   "source": [
    "# Data Preparation"
   ]
  },
  {
   "cell_type": "code",
   "execution_count": null,
   "id": "bfc0f76e-3857-4674-ab4e-1328bff7d7b7",
   "metadata": {},
   "outputs": [],
   "source": [
    "df = pd.read_csv('creditcard.csv')"
   ]
  },
  {
   "cell_type": "code",
   "execution_count": null,
   "id": "d3b0366a-8017-403f-930c-bc4a4f3a02d1",
   "metadata": {},
   "outputs": [],
   "source": [
    "df.head()"
   ]
  },
  {
   "cell_type": "code",
   "execution_count": null,
   "id": "c1f8f490-f267-40cc-9426-2dda3dca6b9d",
   "metadata": {},
   "outputs": [],
   "source": [
    "feature_columns = df.columns[1:-2]\n",
    "target_columns = df.columns[-1]"
   ]
  },
  {
   "cell_type": "code",
   "execution_count": null,
   "id": "e1f91a76-2b7d-4db9-bbca-db5893913913",
   "metadata": {},
   "outputs": [],
   "source": [
    "for feature_column in feature_columns:\n",
    "    df[feature_column] -= np.min(df[feature_column])\n",
    "    df[feature_column] /= np.max(df[feature_column])"
   ]
  },
  {
   "cell_type": "code",
   "execution_count": null,
   "id": "59f63e50-0872-4da1-975d-8889f091fb1a",
   "metadata": {},
   "outputs": [],
   "source": [
    "df['Class'].replace(0, -1, inplace=True)"
   ]
  },
  {
   "cell_type": "code",
   "execution_count": null,
   "id": "a1aa4d0b-eb7c-4100-ab7a-e8f8cca6a0b7",
   "metadata": {},
   "outputs": [],
   "source": [
    "df['Class'].value_counts()"
   ]
  },
  {
   "cell_type": "markdown",
   "id": "a682ee5d-0cbc-41cf-bca0-f8e92e5c0a86",
   "metadata": {},
   "source": [
    "# Model Performance On 100 Samples of Non-Fraudulent Data"
   ]
  },
  {
   "cell_type": "code",
   "execution_count": null,
   "id": "620238d4-2ad2-4a55-bc74-4bd8ab679a4c",
   "metadata": {},
   "outputs": [],
   "source": [
    "df_minus_1 = df.loc[df['Class'] == -1, :].head(100)"
   ]
  },
  {
   "cell_type": "code",
   "execution_count": null,
   "id": "5c1dc654-c06a-4906-9ea0-bad23cb085d4",
   "metadata": {},
   "outputs": [],
   "source": [
    "feature_data = df_minus_1.loc[:, feature_columns].values\n",
    "target_data = df_minus_1.loc[:, target_columns].values"
   ]
  },
  {
   "cell_type": "code",
   "execution_count": null,
   "id": "b64ad83d-17c6-4a78-a820-39699f616895",
   "metadata": {},
   "outputs": [],
   "source": [
    "input_layer = [28]\n",
    "hidden_layers = [64, 32, 16, 8, 4, 2]\n",
    "output_layer = [1]\n",
    "\n",
    "total_epochs = 25\n",
    "learning_rate = 1e-2\n",
    "validation_percentage = 0.1\n",
    "\n",
    "model_purpose = 'binary'\n",
    "learning_rate_decay_type = 'exponential'"
   ]
  },
  {
   "cell_type": "code",
   "execution_count": null,
   "id": "9420c69f-4e34-4562-b2ef-af461458baf3",
   "metadata": {},
   "outputs": [],
   "source": [
    "bnn = bayesian_neural_network(input_layer, \n",
    "                              hidden_layers, \n",
    "                              output_layer, \n",
    "                              feature_data, \n",
    "                              target_data, \n",
    "                              validation_percentage=validation_percentage,\n",
    "                              model_purpose=model_purpose, \n",
    "                              learning_rate=learning_rate)\n",
    "bnn.standardize_dataset()\n",
    "bnn.generate_validation_training_dataset()\n",
    "bnn.generate_m()\n",
    "bnn.generate_v()"
   ]
  },
  {
   "cell_type": "code",
   "execution_count": null,
   "id": "1c7ba5d8-c51b-405a-9f0d-6898373f53b6",
   "metadata": {},
   "outputs": [],
   "source": [
    "# model performance after training\n",
    "bnn.bnn_fp.feed_forward_neural_network(bnn.m, bnn.v, bnn.feature_data, bnn.model_structure, model_purpose=bnn.model_purpose)[0]"
   ]
  },
  {
   "cell_type": "code",
   "execution_count": null,
   "id": "a5b28df7-463d-4c90-9979-4262b7051ad1",
   "metadata": {
    "scrolled": true
   },
   "outputs": [],
   "source": [
    "bnn.train_model(total_epochs)"
   ]
  },
  {
   "cell_type": "code",
   "execution_count": null,
   "id": "23049222-3704-4c7d-8053-0f45cf85875a",
   "metadata": {},
   "outputs": [],
   "source": [
    "bnn.visualize_model_performance()"
   ]
  },
  {
   "cell_type": "code",
   "execution_count": null,
   "id": "42fd03a1-f2fa-4306-8e91-18b1f4d89e15",
   "metadata": {},
   "outputs": [],
   "source": [
    "# model performance after training\n",
    "bnn.bnn_fp.feed_forward_neural_network(bnn.m, bnn.v, bnn.feature_data, bnn.model_structure, model_purpose=bnn.model_purpose)[0]"
   ]
  },
  {
   "cell_type": "markdown",
   "id": "21e80e59-dfe1-40c3-a7d4-911af8773390",
   "metadata": {},
   "source": [
    "# Model Performance On 100 Samples of Fraudulent Data"
   ]
  },
  {
   "cell_type": "code",
   "execution_count": null,
   "id": "a73ef4a1-0ff4-4995-bd74-ea15572439c7",
   "metadata": {},
   "outputs": [],
   "source": [
    "df_1 = df.loc[df['Class'] == 1, :].head(100)"
   ]
  },
  {
   "cell_type": "code",
   "execution_count": null,
   "id": "b4f7f527-d168-4950-955b-5926592b0249",
   "metadata": {},
   "outputs": [],
   "source": [
    "feature_data = df_1.loc[:, feature_columns].values\n",
    "target_data = df_1.loc[:, target_columns].values"
   ]
  },
  {
   "cell_type": "code",
   "execution_count": null,
   "id": "51f71008-edae-4cc7-ba83-56884405f5ee",
   "metadata": {},
   "outputs": [],
   "source": [
    "input_layer = [28]\n",
    "hidden_layers = [64, 32, 16, 8, 4, 2]\n",
    "output_layer = [1]\n",
    "\n",
    "total_epochs = 25\n",
    "learning_rate = 1e-2\n",
    "\n",
    "validation_percentage = 0.1\n",
    "model_purpose = 'binary'\n",
    "learning_rate_decay_type = 'exponential'"
   ]
  },
  {
   "cell_type": "code",
   "execution_count": null,
   "id": "3d76cb31-5e97-4de7-b766-edad34315b6e",
   "metadata": {},
   "outputs": [],
   "source": [
    "bnn = bayesian_neural_network(input_layer, \n",
    "                              hidden_layers, \n",
    "                              output_layer, \n",
    "                              feature_data, \n",
    "                              target_data, \n",
    "                              validation_percentage=validation_percentage,\n",
    "                              model_purpose=model_purpose, \n",
    "                              learning_rate=learning_rate)\n",
    "bnn.standardize_dataset()\n",
    "bnn.generate_validation_training_dataset()\n",
    "bnn.generate_m()\n",
    "bnn.generate_v()"
   ]
  },
  {
   "cell_type": "code",
   "execution_count": null,
   "id": "793e8566-e4ed-4ed3-ad21-b5c3b0990485",
   "metadata": {},
   "outputs": [],
   "source": [
    "# model performance before training\n",
    "bnn.bnn_fp.feed_forward_neural_network(bnn.m, bnn.v, bnn.feature_data, bnn.model_structure, model_purpose=bnn.model_purpose)[0]"
   ]
  },
  {
   "cell_type": "code",
   "execution_count": null,
   "id": "14a96111-6df8-4dae-ac2c-dd8189648063",
   "metadata": {
    "scrolled": true
   },
   "outputs": [],
   "source": [
    "bnn.train_model(total_epochs)"
   ]
  },
  {
   "cell_type": "code",
   "execution_count": null,
   "id": "f3136f68-7c68-4e7f-bbbb-dab67f7ddfbb",
   "metadata": {},
   "outputs": [],
   "source": [
    "bnn.visualize_model_performance()"
   ]
  },
  {
   "cell_type": "code",
   "execution_count": null,
   "id": "4f41cd34-a9f1-436e-a4e8-1bfd6f637350",
   "metadata": {},
   "outputs": [],
   "source": [
    "# model performance after training\n",
    "bnn.bnn_fp.feed_forward_neural_network(bnn.m, bnn.v, bnn.feature_data, bnn.model_structure, model_purpose=bnn.model_purpose)[0]"
   ]
  },
  {
   "cell_type": "markdown",
   "id": "e8928b1b-17d0-4f60-b2aa-8a416a6757c3",
   "metadata": {},
   "source": [
    "# Model Performance On 50 Samples of Non-Fraudulent Data and 50 Samples of Fraudulent Data"
   ]
  },
  {
   "cell_type": "code",
   "execution_count": null,
   "id": "12a1607a-da19-438c-873f-3a8ea1f2e299",
   "metadata": {},
   "outputs": [],
   "source": [
    "df_minus_1 = df.loc[df['Class'] == -1, :].head(50)\n",
    "df_1 = df.loc[df['Class'] == 1, :].head(50)\n",
    "df_1_minus_1 = pd.concat([df_minus_1, df_1]).sample(frac=1)"
   ]
  },
  {
   "cell_type": "code",
   "execution_count": null,
   "id": "96209470-229f-4ccd-a010-6cef6e9c5cf5",
   "metadata": {},
   "outputs": [],
   "source": [
    "feature_data = df_1_minus_1.loc[:, feature_columns].values\n",
    "target_data = df_1_minus_1.loc[:, target_columns].values"
   ]
  },
  {
   "cell_type": "code",
   "execution_count": null,
   "id": "2e254e9f-157b-400c-87f6-d5f58b905e6f",
   "metadata": {},
   "outputs": [],
   "source": [
    "input_layer = [28]\n",
    "hidden_layers = [128, 64, 32, 16, 8, 4, 2]\n",
    "output_layer = [1]\n",
    "\n",
    "total_epochs = 25\n",
    "learning_rate = 1e-4\n",
    "\n",
    "validation_percentage = 0.1\n",
    "model_purpose = 'binary'\n",
    "learning_rate_decay_type = 'exponential'"
   ]
  },
  {
   "cell_type": "code",
   "execution_count": null,
   "id": "80f35831-1a68-44f7-9037-5f2cd4bc098a",
   "metadata": {},
   "outputs": [],
   "source": [
    "bnn = bayesian_neural_network(input_layer, \n",
    "                              hidden_layers, \n",
    "                              output_layer, \n",
    "                              feature_data, \n",
    "                              target_data, \n",
    "                              validation_percentage=validation_percentage,\n",
    "                              model_purpose=model_purpose, \n",
    "                              learning_rate=learning_rate)\n",
    "bnn.standardize_dataset()\n",
    "bnn.generate_validation_training_dataset()\n",
    "bnn.generate_m()\n",
    "bnn.generate_v()"
   ]
  },
  {
   "cell_type": "code",
   "execution_count": null,
   "id": "83e195c5-ea83-4f9b-9242-505010317c34",
   "metadata": {},
   "outputs": [],
   "source": [
    "# model performance on predicting fraudulent data before training\n",
    "bnn.bnn_fp.feed_forward_neural_network(bnn.m, bnn.v, bnn.feature_data[bnn.target_data == 1], bnn.model_structure, model_purpose=bnn.model_purpose)[0]"
   ]
  },
  {
   "cell_type": "code",
   "execution_count": null,
   "id": "2632b772-e07c-498b-ae14-7552de983a26",
   "metadata": {},
   "outputs": [],
   "source": [
    "# model performance on predicting non-fraudulent data before training\n",
    "bnn.bnn_fp.feed_forward_neural_network(bnn.m, bnn.v, bnn.feature_data[bnn.target_data == -1], bnn.model_structure, model_purpose=bnn.model_purpose)[0]"
   ]
  },
  {
   "cell_type": "code",
   "execution_count": null,
   "id": "f0b6fa85-1069-46a7-bfd4-fcbdc430de18",
   "metadata": {
    "scrolled": true
   },
   "outputs": [],
   "source": [
    "bnn.train_model(total_epochs)"
   ]
  },
  {
   "cell_type": "code",
   "execution_count": null,
   "id": "79b44fa9-6542-4511-8d18-b9b31889ced6",
   "metadata": {},
   "outputs": [],
   "source": [
    "# model performance on predicting fraudulent data after training\n",
    "bnn.bnn_fp.feed_forward_neural_network(bnn.m, bnn.v, bnn.feature_data[bnn.target_data == 1], bnn.model_structure, model_purpose=bnn.model_purpose)[0]"
   ]
  },
  {
   "cell_type": "code",
   "execution_count": null,
   "id": "87fc8a4a-a4e5-4048-b35f-2e9c735abb87",
   "metadata": {},
   "outputs": [],
   "source": [
    "# model performance on predicting non-fraudulent data after training\n",
    "bnn.bnn_fp.feed_forward_neural_network(bnn.m, bnn.v, bnn.feature_data[bnn.target_data == -1], bnn.model_structure, model_purpose=bnn.model_purpose)[0]"
   ]
  },
  {
   "cell_type": "code",
   "execution_count": null,
   "id": "0fe227e1-cf4c-43d5-b221-74c47afbb0e6",
   "metadata": {},
   "outputs": [],
   "source": [
    "bnn.visualize_model_performance()"
   ]
  }
 ],
 "metadata": {
  "kernelspec": {
   "display_name": "Python 3 (ipykernel)",
   "language": "python",
   "name": "python3"
  },
  "language_info": {
   "codemirror_mode": {
    "name": "ipython",
    "version": 3
   },
   "file_extension": ".py",
   "mimetype": "text/x-python",
   "name": "python",
   "nbconvert_exporter": "python",
   "pygments_lexer": "ipython3",
   "version": "3.11.7"
  }
 },
 "nbformat": 4,
 "nbformat_minor": 5
}
