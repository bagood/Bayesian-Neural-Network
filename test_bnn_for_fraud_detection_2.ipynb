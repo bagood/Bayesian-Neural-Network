{
 "cells": [
  {
   "cell_type": "code",
   "execution_count": null,
   "id": "33360bda-0800-48db-8caf-0d7f400bcdbd",
   "metadata": {},
   "outputs": [],
   "source": [
    "from Bayesian_Neural_Network import bayesian_neural_network\n",
    "from BNN_Learning_Rate_Tuning import bnn_learning_rate_tuning\n",
    "\n",
    "import numpy as np\n",
    "import pandas as pd\n",
    "from sklearn.decomposition import PCA\n",
    "from sklearn.preprocessing import MinMaxScaler, StandardScaler\n",
    "\n",
    "np.random.seed(10120024)"
   ]
  },
  {
   "cell_type": "markdown",
   "id": "5c5a1908-e547-4041-b5a8-d822ca851f8d",
   "metadata": {},
   "source": [
    "# Data Preparation"
   ]
  },
  {
   "cell_type": "code",
   "execution_count": null,
   "id": "5c89b018-6fa6-45d5-b42d-f103c50b36ea",
   "metadata": {},
   "outputs": [],
   "source": [
    "# load the dataset\n",
    "df = pd.read_csv('sample_fraud.csv', \n",
    "                    usecols=['type', 'amount', 'oldbalanceOrg', 'newbalanceOrig', 'oldbalanceDest', 'newbalanceDest', 'isFraud'], \n",
    "                    nrows=5000)\n",
    "\n",
    "# perform one-hot-eencoding on the column 'type'\n",
    "dummies_df = pd.get_dummies(df['type'], dtype=int)\n",
    "\n",
    "# concat the original data with the one-hot-encoded data\n",
    "data = pd.concat((df, dummies_df), axis=1) \\\n",
    "            .drop(columns=['type'])"
   ]
  },
  {
   "cell_type": "code",
   "execution_count": null,
   "id": "90dc69be-a553-4692-8e83-c3bcef4b9d48",
   "metadata": {},
   "outputs": [],
   "source": [
    "# df.to_csv('sample_fraud.csv', index=False)"
   ]
  },
  {
   "cell_type": "code",
   "execution_count": null,
   "id": "fb4d217a-3088-4af8-b689-0ba005be8343",
   "metadata": {},
   "outputs": [],
   "source": [
    "sample_data = pd.concat([\n",
    "    data.loc[data['isFraud'] == 1, :],\n",
    "    data.loc[data['isFraud'] == 0, :].head(500),\n",
    "])"
   ]
  },
  {
   "cell_type": "code",
   "execution_count": null,
   "id": "5e441c8e-87e4-4ab0-bcbf-4fdb1d975cb2",
   "metadata": {},
   "outputs": [],
   "source": [
    "sample_data"
   ]
  },
  {
   "cell_type": "code",
   "execution_count": null,
   "id": "49a586a4-8397-40ba-9d44-f374e4708cb4",
   "metadata": {},
   "outputs": [],
   "source": [
    "# percentage of fraud and non-fraud label in the data\n",
    "sample_data['isFraud'].value_counts().to_frame('percentage') / np.sum(sample_data['isFraud'].value_counts()) * 100"
   ]
  },
  {
   "cell_type": "code",
   "execution_count": null,
   "id": "a820e7e5-9fc2-4828-bf23-51317653f38a",
   "metadata": {},
   "outputs": [],
   "source": [
    "# specify the feature and target data\n",
    "feature_columns = sample_data.columns[data.columns != 'isFraud']\n",
    "target_columns = ['isFraud']\n",
    "\n",
    "feature_data = sample_data.loc[:, feature_columns]\n",
    "target_data = sample_data.loc[:, target_columns]\n",
    "target_data.loc[target_data['isFraud'] == 0, :] = -1\n",
    "\n",
    "# standardize the dataset\n",
    "for col in feature_columns[:5]:\n",
    "    scaler = StandardScaler()\n",
    "    feature_data[col] = scaler.fit_transform(feature_data[col].values.reshape(-1, 1))"
   ]
  },
  {
   "cell_type": "code",
   "execution_count": null,
   "id": "b7da1cef-a2e6-4336-a026-6ddd7443591f",
   "metadata": {},
   "outputs": [],
   "source": [
    "pca = PCA(n_components = 4)\n",
    "\n",
    "feature_data_values = pca.fit_transform(feature_data.values)\n",
    "feature_data = pd.DataFrame({f'PCA {i+1}':val for i, val in enumerate(feature_data_values.T)})\n",
    "feature_columns = feature_data.columns\n",
    "\n",
    "explained_variance = pca.explained_variance_ratio_"
   ]
  },
  {
   "cell_type": "code",
   "execution_count": null,
   "id": "cc8d4ea1-c9d8-4c2c-b17a-e636d553c5db",
   "metadata": {},
   "outputs": [],
   "source": [
    "np.sum(explained_variance)"
   ]
  },
  {
   "cell_type": "code",
   "execution_count": null,
   "id": "c55a50dc-5e0a-4f37-bfeb-d38d279d91a8",
   "metadata": {},
   "outputs": [],
   "source": [
    "fraud_feature_data = feature_data.loc[(target_data['isFraud'] == 1).values, :].values\n",
    "fraud_target_data = target_data.loc[(target_data['isFraud'] == 1).values, :].values \n",
    "\n",
    "non_fraud_feature_data = feature_data.loc[(target_data['isFraud'] == -1).values, :].values\n",
    "non_fraud_target_data = target_data.loc[(target_data['isFraud'] == -1).values, :].values\n",
    "\n",
    "fraud_non_fraud_feature_data = np.concatenate((fraud_feature_data, non_fraud_feature_data), axis=0)\n",
    "fraud_non_fraud_target_data = np.concatenate((fraud_target_data, non_fraud_target_data), axis=0)"
   ]
  },
  {
   "cell_type": "markdown",
   "id": "0453f35a-e32a-486e-b5ba-83d3176cd9c6",
   "metadata": {
    "jp-MarkdownHeadingCollapsed": true
   },
   "source": [
    "# Model Performance on Predicting Fraud Data (Labeled as 1)"
   ]
  },
  {
   "cell_type": "code",
   "execution_count": null,
   "id": "ceec2640-0e82-4626-8c95-1f50cad38821",
   "metadata": {},
   "outputs": [],
   "source": [
    "input_layer = [len(feature_columns)]\n",
    "hidden_layers = [4, 8, 6, 8, 4]\n",
    "output_layer = [1]\n",
    "\n",
    "total_epochs = 50\n",
    "initial_lr = 1e-2\n",
    "end_lr = 1e-4\n",
    "batch_size = 4"
   ]
  },
  {
   "cell_type": "code",
   "execution_count": null,
   "id": "634c3690-e008-4bbb-884f-b3727cbeea43",
   "metadata": {},
   "outputs": [],
   "source": [
    "bnn = bayesian_neural_network(input_layer, \n",
    "                                hidden_layers, \n",
    "                                output_layer, \n",
    "                                fraud_feature_data, \n",
    "                                fraud_target_data, \n",
    "                                batch_size=batch_size,\n",
    "                                initial_lr=initial_lr, \n",
    "                                end_lr=end_lr,\n",
    "                                total_epochs=total_epochs)"
   ]
  },
  {
   "cell_type": "code",
   "execution_count": null,
   "id": "02acdc14-2c14-4dda-923a-5b1be3211f41",
   "metadata": {
    "scrolled": true
   },
   "outputs": [],
   "source": [
    "np.array([bnn.bnn_fp.forward_propagation(feature_data_i, bnn.m, bnn.v, bnn.model_structure)[-2][-1][0, 0] for feature_data_i in bnn.feature_data[(bnn.target_data == 1).T[0, 0]]])"
   ]
  },
  {
   "cell_type": "code",
   "execution_count": null,
   "id": "29df9742-c8b1-4a09-900d-d87368c219ba",
   "metadata": {
    "scrolled": true
   },
   "outputs": [],
   "source": [
    "bnn.train_model()"
   ]
  },
  {
   "cell_type": "code",
   "execution_count": null,
   "id": "e54d42c2-d55c-4e16-9440-2fe151cc60e2",
   "metadata": {},
   "outputs": [],
   "source": [
    "bnn.visualize_model_performance()"
   ]
  },
  {
   "cell_type": "code",
   "execution_count": null,
   "id": "b85284e6-cf12-48f9-842c-e3bd7e5cbcd7",
   "metadata": {
    "scrolled": true
   },
   "outputs": [],
   "source": [
    "np.array([bnn.bnn_fp.forward_propagation(feature_data_i, bnn.m, bnn.v, bnn.model_structure)[-2][-1][0, 0] for feature_data_i in bnn.feature_data[(bnn.target_data == 1).T[0, 0]]])"
   ]
  },
  {
   "cell_type": "markdown",
   "id": "4bb092e3-45bf-41e4-a159-ebc8e889f932",
   "metadata": {
    "jp-MarkdownHeadingCollapsed": true
   },
   "source": [
    "# Model Performance on Predicting Non-Fraud Data (Labeled With -1)"
   ]
  },
  {
   "cell_type": "code",
   "execution_count": null,
   "id": "cd46e361-f4d9-42f2-b12c-e109e562f749",
   "metadata": {},
   "outputs": [],
   "source": [
    "input_layer = [len(feature_columns)]\n",
    "hidden_layers = [4, 8, 6, 8, 4]\n",
    "output_layer = [1]\n",
    "\n",
    "total_epochs = 100\n",
    "initial_lr = 5e-3\n",
    "end_lr = 1e-4\n",
    "batch_size = 5"
   ]
  },
  {
   "cell_type": "code",
   "execution_count": null,
   "id": "1d1f0168-f113-45c5-8b13-8a6f9fa2bf14",
   "metadata": {
    "scrolled": true
   },
   "outputs": [],
   "source": [
    "bnn = bayesian_neural_network(input_layer, \n",
    "                                hidden_layers, \n",
    "                                output_layer, \n",
    "                                non_fraud_feature_data, \n",
    "                                non_fraud_target_data, \n",
    "                                batch_size=batch_size,\n",
    "                                initial_lr=initial_lr, \n",
    "                                end_lr=end_lr,\n",
    "                                total_epochs=total_epochs)"
   ]
  },
  {
   "cell_type": "code",
   "execution_count": null,
   "id": "3425bfd7-62b3-4a2d-8bc3-3e07921a1b97",
   "metadata": {
    "scrolled": true
   },
   "outputs": [],
   "source": [
    "np.array([bnn.bnn_fp.forward_propagation(feature_data_i, bnn.m, bnn.v, bnn.model_structure)[-2][-1][0, 0] for feature_data_i in bnn.feature_data[(bnn.target_data == -1).T[0, 0]]])"
   ]
  },
  {
   "cell_type": "code",
   "execution_count": null,
   "id": "77409581-c0ca-4e7d-a191-103d2d02fa47",
   "metadata": {
    "scrolled": true
   },
   "outputs": [],
   "source": [
    "bnn.train_model()"
   ]
  },
  {
   "cell_type": "code",
   "execution_count": null,
   "id": "47b1958e-831a-46fb-a9fa-61ae880aee6d",
   "metadata": {},
   "outputs": [],
   "source": [
    "bnn.visualize_model_performance()"
   ]
  },
  {
   "cell_type": "code",
   "execution_count": null,
   "id": "4a378cd5-b323-449c-adaf-c620b747a41e",
   "metadata": {
    "scrolled": true
   },
   "outputs": [],
   "source": [
    "np.array([bnn.bnn_fp.forward_propagation(feature_data_i, bnn.m, bnn.v, bnn.model_structure)[-2][-1][0, 0] for feature_data_i in bnn.feature_data[(bnn.target_data == -1).T[0, 0]]])"
   ]
  },
  {
   "cell_type": "markdown",
   "id": "0900282c-1d71-4a9b-837b-7082d55c9299",
   "metadata": {},
   "source": [
    "# Model Performance on Fraud and Non-Fraud Data"
   ]
  },
  {
   "cell_type": "code",
   "execution_count": null,
   "id": "f909d69f-4953-43eb-a430-0053e6e57fc1",
   "metadata": {},
   "outputs": [],
   "source": [
    "np.random.seed(10120024)\n",
    "\n",
    "input_layer = [len(feature_columns)]\n",
    "hidden_layers = [16, 18, 18, 16]\n",
    "output_layer = [1]\n",
    "\n",
    "total_epochs = 100\n",
    "initial_lr = 1e-4\n",
    "end_lr = 1e-8\n",
    "batch_size = 40"
   ]
  },
  {
   "cell_type": "code",
   "execution_count": null,
   "id": "6631f38f-9d5a-42d3-8276-8daf1fcd4e2d",
   "metadata": {},
   "outputs": [],
   "source": [
    "bnn = bayesian_neural_network(input_layer, \n",
    "                                hidden_layers, \n",
    "                                output_layer, \n",
    "                                fraud_non_fraud_feature_data, \n",
    "                                fraud_non_fraud_target_data, \n",
    "                                batch_size=batch_size,\n",
    "                                initial_lr=initial_lr, \n",
    "                                end_lr=end_lr,\n",
    "                                total_epochs=total_epochs)"
   ]
  },
  {
   "cell_type": "code",
   "execution_count": null,
   "id": "d63512ae-12a3-4efb-9822-034f48466bc9",
   "metadata": {
    "scrolled": true
   },
   "outputs": [],
   "source": [
    "np.array([bnn.bnn_fp.forward_propagation(feature_data_i, bnn.m, bnn.v, bnn.model_structure)[-2][-1][0, 0] for feature_data_i in bnn.feature_data[(bnn.target_data == 1).T[0, 0]]])"
   ]
  },
  {
   "cell_type": "code",
   "execution_count": null,
   "id": "3c5d1244-0305-44a7-bbde-f01dc737e99d",
   "metadata": {
    "scrolled": true
   },
   "outputs": [],
   "source": [
    "np.array([bnn.bnn_fp.forward_propagation(feature_data_i, bnn.m, bnn.v, bnn.model_structure)[-2][-1][0, 0] for feature_data_i in bnn.feature_data[(bnn.target_data == -1).T[0, 0]]])"
   ]
  },
  {
   "cell_type": "code",
   "execution_count": null,
   "id": "5efa9536-84fa-4706-bd73-9e9b1391eb1e",
   "metadata": {
    "scrolled": true
   },
   "outputs": [],
   "source": [
    "bnn.train_model()"
   ]
  },
  {
   "cell_type": "code",
   "execution_count": null,
   "id": "2ebd19d3-587e-4512-992f-c0f4405a3337",
   "metadata": {},
   "outputs": [],
   "source": [
    "bnn.visualize_model_performance()"
   ]
  },
  {
   "cell_type": "code",
   "execution_count": null,
   "id": "704df33c-427b-4789-a964-87ccd4eff9f9",
   "metadata": {},
   "outputs": [],
   "source": [
    "np.array([bnn.bnn_fp.forward_propagation(feature_data_i, bnn.m, bnn.v, bnn.model_structure)[-2][-1][0, 0] for feature_data_i in bnn.feature_data[(bnn.target_data == 1).T[0, 0]]])"
   ]
  },
  {
   "cell_type": "code",
   "execution_count": null,
   "id": "97c2a55c-32ae-4c19-92f5-968711463a3f",
   "metadata": {
    "scrolled": true
   },
   "outputs": [],
   "source": [
    "np.array([bnn.bnn_fp.forward_propagation(feature_data_i, bnn.m, bnn.v, bnn.model_structure)[-2][-1][0, 0] for feature_data_i in bnn.feature_data[(bnn.target_data == -1).T[0, 0]]])"
   ]
  },
  {
   "cell_type": "code",
   "execution_count": null,
   "id": "b1685f33-490a-478f-9bd6-2f567aaf981f",
   "metadata": {},
   "outputs": [],
   "source": [
    "bnn.succesfull_train"
   ]
  },
  {
   "cell_type": "markdown",
   "id": "15a21724-e8d3-4b39-81f2-8268b79d2a39",
   "metadata": {
    "jp-MarkdownHeadingCollapsed": true
   },
   "source": [
    "# Model Learning Rate Tuning"
   ]
  },
  {
   "cell_type": "code",
   "execution_count": null,
   "id": "fd85a944-177b-4751-b97f-690795f72977",
   "metadata": {},
   "outputs": [],
   "source": [
    "input_layer = [len(feature_columns)]\n",
    "hidden_layers = [32, 16, 8, 4, 2]\n",
    "output_layer = [1]\n",
    "\n",
    "initial_lr_power = 20\n",
    "end_lr_power = 24\n",
    "total_iters = 4\n",
    "tuning_epochs = 10\n",
    "\n",
    "model_purpose = 'binary'"
   ]
  },
  {
   "cell_type": "code",
   "execution_count": null,
   "id": "5bfd7225-dda9-4418-8fea-e41f110d2beb",
   "metadata": {},
   "outputs": [],
   "source": [
    "bnn_lr_tuning = bnn_learning_rate_tuning(input_layer, \n",
    "                                         hidden_layers, \n",
    "                                         output_layer, \n",
    "                                         feature_data, \n",
    "                                         target_data,\n",
    "                                         model_purpose=model_purpose, \n",
    "                                         initial_lr_power=initial_lr_power, \n",
    "                                         end_lr_power=end_lr_power, \n",
    "                                         total_iters=total_iters, \n",
    "                                         tuning_epochs=tuning_epochs)"
   ]
  },
  {
   "cell_type": "code",
   "execution_count": null,
   "id": "173ba293-81d5-40ef-b551-b2d94562834e",
   "metadata": {},
   "outputs": [],
   "source": [
    "bnn_lr_tuning.perform_learning_rate_tuning()"
   ]
  },
  {
   "cell_type": "code",
   "execution_count": null,
   "id": "c3a5954b-3c9f-40b6-88aa-f7610332f152",
   "metadata": {},
   "outputs": [],
   "source": [
    "bnn_lr_tuning.visualize_learning_rate_tuning()"
   ]
  }
 ],
 "metadata": {
  "kernelspec": {
   "display_name": "Python 3 (ipykernel)",
   "language": "python",
   "name": "python3"
  },
  "language_info": {
   "codemirror_mode": {
    "name": "ipython",
    "version": 3
   },
   "file_extension": ".py",
   "mimetype": "text/x-python",
   "name": "python",
   "nbconvert_exporter": "python",
   "pygments_lexer": "ipython3",
   "version": "3.11.7"
  }
 },
 "nbformat": 4,
 "nbformat_minor": 5
}
